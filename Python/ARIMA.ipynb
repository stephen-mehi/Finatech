{
 "cells": [
  {
   "cell_type": "code",
   "execution_count": null,
   "id": "coated-abortion",
   "metadata": {},
   "outputs": [],
   "source": [
    "import numpy as np\n",
    "import pandas as pd\n",
    "#from statsmodels.tsa.statespace.sarimax import SARIMAX\n",
    "#from statsmodels.graphics.tsaplots import plot_acf,plot_pacf \n",
    "#from statsmodels.tsa.seasonal import seasonal_decompose \n",
    "from pmdarima import auto_arima                        \n",
    "from sklearn.metrics import mean_squared_error\n",
    "#from statsmodels.tools.eval_measures import rmse"
   ]
  },
  {
   "cell_type": "code",
   "execution_count": null,
   "id": "alpha-yellow",
   "metadata": {},
   "outputs": [],
   "source": [
    "df = pd.read_csv('C:/ProgramData/ETH/TrainingData/training.csv')\n",
    "df.head()"
   ]
  },
  {
   "cell_type": "code",
   "execution_count": null,
   "id": "copyrighted-zimbabwe",
   "metadata": {
    "scrolled": true
   },
   "outputs": [],
   "source": [
    "df.info()"
   ]
  },
  {
   "cell_type": "code",
   "execution_count": null,
   "id": "threaded-crest",
   "metadata": {},
   "outputs": [],
   "source": [
    "df.DateTime = pd.to_datetime(df.date,unit='s')\n",
    "df = df.set_index(\"DateTime\")\n",
    "df.head()"
   ]
  },
  {
   "cell_type": "code",
   "execution_count": null,
   "id": "desirable-specification",
   "metadata": {},
   "outputs": [],
   "source": []
  },
  {
   "cell_type": "code",
   "execution_count": null,
   "id": "twelve-faculty",
   "metadata": {},
   "outputs": [],
   "source": [
    "ax = df.close.plot(figsize = (16,5), title = \"Close Price\")\n",
    "ax.set(xlabel='date', ylabel='close');"
   ]
  }
 ],
 "metadata": {
  "kernelspec": {
   "display_name": "Python 3",
   "language": "python",
   "name": "python3"
  },
  "language_info": {
   "codemirror_mode": {
    "name": "ipython",
    "version": 3
   },
   "file_extension": ".py",
   "mimetype": "text/x-python",
   "name": "python",
   "nbconvert_exporter": "python",
   "pygments_lexer": "ipython3",
   "version": "3.8.5"
  }
 },
 "nbformat": 4,
 "nbformat_minor": 5
}
