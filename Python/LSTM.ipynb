{
 "cells": [
  {
   "cell_type": "code",
   "execution_count": 1,
   "id": "absent-alarm",
   "metadata": {},
   "outputs": [
    {
     "name": "stdout",
     "output_type": "stream",
     "text": [
      "True\n",
      "[PhysicalDevice(name='/physical_device:GPU:0', device_type='GPU')]\n"
     ]
    },
    {
     "data": {
      "text/plain": [
       "22"
      ]
     },
     "execution_count": 1,
     "metadata": {},
     "output_type": "execute_result"
    }
   ],
   "source": [
    "import gc\n",
    "import datetime\n",
    "import pandas as pd\n",
    "import numpy as np\n",
    "import matplotlib.pyplot as plt\n",
    "import seaborn as sns\n",
    "from sklearn.svm import SVC\n",
    "from sklearn.feature_selection import RFE\n",
    "from sklearn.preprocessing import MinMaxScaler\n",
    "from sklearn.preprocessing import StandardScaler\n",
    "from sklearn.metrics import mean_squared_error\n",
    "from sklearn.metrics import mean_absolute_error\n",
    "from sklearn.metrics import mean_absolute_percentage_error\n",
    "import math\n",
    "\n",
    "import tensorflow as tf\n",
    "from tensorflow import keras\n",
    "\n",
    "from tensorflow.keras import models\n",
    "from tensorflow.keras import layers\n",
    "\n",
    "print(tf.test.is_built_with_cuda())\n",
    "print(tf.config.list_physical_devices('GPU')) \n",
    "\n",
    "# CLEAN UP MEMORY\n",
    "gc.collect()"
   ]
  },
  {
   "cell_type": "code",
   "execution_count": 2,
   "id": "about-dependence",
   "metadata": {},
   "outputs": [
    {
     "name": "stdout",
     "output_type": "stream",
     "text": [
      "             close        date         high          low         open  \\\n",
      "0       738.615957  1609459200   738.615957   736.212707   736.212707   \n",
      "1       733.205047  1609459500   736.074300   733.205047   736.074300   \n",
      "2       730.580620  1609459800   733.400000   730.298975   733.195132   \n",
      "3       731.879341  1609460100   731.917669   731.282995   731.282995   \n",
      "4       731.563416  1609460400   731.563416   729.518833   731.371327   \n",
      "...            ...         ...          ...          ...          ...   \n",
      "28552  2070.659658  1618008000  2072.468643  2069.256053  2071.227033   \n",
      "28553  2068.199985  1618008300  2071.931117  2067.387556  2071.849323   \n",
      "28554  2067.308124  1618008600  2068.226492  2066.900000  2068.100000   \n",
      "28555  2066.607410  1618008900  2068.397512  2063.776302  2067.365079   \n",
      "28556  2064.081855  1618009200  2066.334865  2062.151488  2064.600000   \n",
      "\n",
      "       quoteVolume        volume  weightedAverage  \n",
      "0         9.191832   6776.937020       737.278171  \n",
      "1        75.298761  55315.534764       734.614140  \n",
      "2        34.835544  25493.189969       731.815460  \n",
      "3         5.355168   3917.951300       731.620666  \n",
      "4         5.322368   3886.713436       730.260155  \n",
      "...            ...           ...              ...  \n",
      "28552    29.045248  60143.372178      2070.678585  \n",
      "28553     9.321253  19302.368793      2070.791303  \n",
      "28554     4.844949  10016.170049      2067.342576  \n",
      "28555    38.785222  80086.131975      2064.862044  \n",
      "28556     3.428578   7075.984014      2063.824462  \n",
      "\n",
      "[28557 rows x 8 columns]\n"
     ]
    }
   ],
   "source": [
    "#READ DATA FROM FILE\n",
    "dataset=pd.read_csv(\"C:/ProgramData/ETH/TrainingData/training.csv\", sep=',',header=0)\n",
    "#PRINT DATA\n",
    "print(dataset)"
   ]
  },
  {
   "cell_type": "code",
   "execution_count": 3,
   "id": "bored-louisiana",
   "metadata": {},
   "outputs": [
    {
     "name": "stdout",
     "output_type": "stream",
     "text": [
      "                    close      date      high       low      open  \\\n",
      "close            1.000000  0.842761  0.999924  0.999915  0.999842   \n",
      "date             0.842761  1.000000  0.842318  0.843281  0.842728   \n",
      "high             0.999924  0.842318  1.000000  0.999866  0.999926   \n",
      "low              0.999915  0.843281  0.999866  1.000000  0.999903   \n",
      "open             0.999842  0.842728  0.999926  0.999903  1.000000   \n",
      "quoteVolume     -0.291874 -0.326376 -0.287332 -0.297154 -0.291147   \n",
      "volume          -0.139163 -0.210136 -0.134564 -0.144509 -0.138462   \n",
      "weightedAverage  0.999952  0.842804  0.999959  0.999961  0.999930   \n",
      "\n",
      "                 quoteVolume    volume  weightedAverage  \n",
      "close              -0.291874 -0.139163         0.999952  \n",
      "date               -0.326376 -0.210136         0.842804  \n",
      "high               -0.287332 -0.134564         0.999959  \n",
      "low                -0.297154 -0.144509         0.999961  \n",
      "open               -0.291147 -0.138462         0.999930  \n",
      "quoteVolume         1.000000  0.963255        -0.292410  \n",
      "volume              0.963255  1.000000        -0.139685  \n",
      "weightedAverage    -0.292410 -0.139685         1.000000  \n"
     ]
    }
   ],
   "source": [
    "#CONDUCT PEARSON CORRELATION\n",
    "correlation_matrix = dataset.corr()\n",
    "print(correlation_matrix)"
   ]
  },
  {
   "cell_type": "code",
   "execution_count": 4,
   "id": "regular-wrist",
   "metadata": {},
   "outputs": [
    {
     "data": {
      "text/plain": [
       "<AxesSubplot:>"
      ]
     },
     "execution_count": 4,
     "metadata": {},
     "output_type": "execute_result"
    },
    {
     "data": {
      "image/png": "[encoded data removed]",
      "text/plain": [
       "<Figure size 432x288 with 2 Axes>"
      ]
     },
     "metadata": {
      "needs_background": "light"
     },
     "output_type": "display_data"
    }
   ],
   "source": [
    "# plot the heatmap\n",
    "sns.heatmap(correlation_matrix, xticklabels=correlation_matrix.columns, yticklabels=correlation_matrix.columns)"
   ]
  },
  {
   "cell_type": "code",
   "execution_count": 5,
   "id": "multiple-angle",
   "metadata": {},
   "outputs": [
    {
     "name": "stdout",
     "output_type": "stream",
     "text": [
      "              high          low         open  weightedAverage        close\n",
      "0       738.615957   736.212707   736.212707       737.278171   738.615957\n",
      "1       736.074300   733.205047   736.074300       734.614140   733.205047\n",
      "2       733.400000   730.298975   733.195132       731.815460   730.580620\n",
      "3       731.917669   731.282995   731.282995       731.620666   731.879341\n",
      "4       731.563416   729.518833   731.371327       730.260155   731.563416\n",
      "...            ...          ...          ...              ...          ...\n",
      "28552  2072.468643  2069.256053  2071.227033      2070.678585  2070.659658\n",
      "28553  2071.931117  2067.387556  2071.849323      2070.791303  2068.199985\n",
      "28554  2068.226492  2066.900000  2068.100000      2067.342576  2067.308124\n",
      "28555  2068.397512  2063.776302  2067.365079      2064.862044  2066.607410\n",
      "28556  2066.334865  2062.151488  2064.600000      2063.824462  2064.081855\n",
      "\n",
      "[28557 rows x 5 columns]\n"
     ]
    }
   ],
   "source": [
    "#SELECT FEATURES AND TARGET\n",
    "data = dataset[[\"high\",\"low\",\"open\",\"weightedAverage\", \"close\"]]\n",
    "print(data)"
   ]
  },
  {
   "cell_type": "code",
   "execution_count": 6,
   "id": "impossible-barbados",
   "metadata": {},
   "outputs": [],
   "source": [
    "#SCALE DATA \n",
    "scaler = MinMaxScaler(feature_range=(0, 1))\n",
    "data = scaler.fit_transform(data)"
   ]
  },
  {
   "cell_type": "code",
   "execution_count": 7,
   "id": "brilliant-telephone",
   "metadata": {},
   "outputs": [],
   "source": [
    "#DEFINE MODEL CREATION METHOD. ENABLES EASY HYPER PARAM TUNING\n",
    "def build_model(inputs, neurons, activ_func, dropout, loss, optimizer):\n",
    "    \"\"\"\n",
    "    inputs: input data as numpy array\n",
    "    output_size: number of predictions per input sample\n",
    "    neurons: number of neurons/ units in the LSTM layer\n",
    "    active_func: Activation function to be used in LSTM layers and Dense layer\n",
    "    dropout: dropout ration, default is 0.25\n",
    "    loss: loss function for calculating the gradient\n",
    "    optimizer: type of optimizer to backpropagate the gradient\n",
    "    \n",
    "    This function will build 3 layered RNN model with LSTM cells with dripouts after each LSTM layer \n",
    "    and finally a dense layer to produce the output using keras' sequential model.\n",
    "    Return: Keras sequential model and model summary\n",
    "    \"\"\"\n",
    "    \n",
    "    model = models.Sequential()\n",
    "    model.add(layers.LSTM(neurons, return_sequences=False, input_shape=(inputs.shape[1], inputs.shape[2]), activation=activ_func))\n",
    "    model.add(layers.Dropout(dropout))\n",
    "    model.add(layers.Dense(units=inputs.shape[2]))\n",
    "    #model.add(layers.Dense(units=1))\n",
    "    model.add(layers.Activation(activ_func))\n",
    "    model.compile(loss=loss, optimizer=optimizer, metrics=['mae'])\n",
    "    model.summary()\n",
    "    return model"
   ]
  },
  {
   "cell_type": "code",
   "execution_count": 8,
   "id": "requested-qatar",
   "metadata": {},
   "outputs": [],
   "source": [
    "def split_data(training_split, data):\n",
    "    # split into train and test sets\n",
    "    train_size = int(len(data) * training_split)\n",
    "    test_size = len(data) - train_size\n",
    "    train, test = data[0:train_size,:], data[train_size:len(data),:]\n",
    "    return (train, test)"
   ]
  },
  {
   "cell_type": "code",
   "execution_count": 9,
   "id": "opponent-result",
   "metadata": {},
   "outputs": [],
   "source": [
    "def split_sequences_multivariate_output(sequences, look_back, look_forward):\n",
    "    x, y = list(), list()\n",
    "    for i in range(len(sequences)):\n",
    "        # end index of lookback window\n",
    "        lookback_end_index = i + look_back\n",
    "        lookforward_end_index = i + look_back + look_forward\n",
    "        # exit if we are beyond the dataset\n",
    "        if lookforward_end_index > len(sequences)-1:\n",
    "            break\n",
    "        # gather input and output parts of the pattern. input is lookback window of data, output is next step of data\n",
    "        seq_x, seq_y = sequences[i:lookback_end_index, :], sequences[lookback_end_index:lookforward_end_index, :]\n",
    "        x.append(seq_x)\n",
    "        y.append(seq_y)\n",
    "            \n",
    "    return np.array(x), np.array(y)"
   ]
  },
  {
   "cell_type": "code",
   "execution_count": 11,
   "id": "delayed-apollo",
   "metadata": {},
   "outputs": [],
   "source": [
    "#INIT HYPER PARAMS\n",
    "neurons = 512\n",
    "activation_function = 'tanh'\n",
    "loss = 'mse'\n",
    "optimizer=\"adam\"\n",
    "dropout = 0.2\n",
    "batch_size = 25\n",
    "epochs = 125\n",
    "#epochs = 1\n",
    "training_split = 1\n",
    "look_back = 12\n",
    "look_forward = 1\n",
    "random_seed = 202"
   ]
  },
  {
   "cell_type": "code",
   "execution_count": 12,
   "id": "ongoing-antigua",
   "metadata": {},
   "outputs": [],
   "source": [
    "#SPLIT DATA FOR TRAINING\n",
    "train_data, test_data = split_data(training_split, data)"
   ]
  },
  {
   "cell_type": "code",
   "execution_count": 13,
   "id": "potential-marsh",
   "metadata": {},
   "outputs": [
    {
     "name": "stdout",
     "output_type": "stream",
     "text": [
      "training features shape == (28544, 12, 5).\n",
      "training targets shape == (28544, 1, 5).\n",
      "testing features shape == (0,).\n",
      "testing features shape == (0,).\n",
      "X_TRAIN\n",
      "[[[0.01353806 0.01488267 0.01387366 0.01399334 0.01554984]\n",
      "  [0.01176073 0.01277252 0.01377683 0.01213145 0.01176352]\n",
      "  [0.00989065 0.01073364 0.0117626  0.01017546 0.00992706]\n",
      "  ...\n",
      "  [0.01040548 0.01224024 0.01162609 0.01147227 0.01228803]\n",
      "  [0.01086964 0.01334798 0.01234335 0.01198792 0.01265165]\n",
      "  [0.01130775 0.01330036 0.01232564 0.01219856 0.01228999]]\n",
      "\n",
      " [[0.01176073 0.01277252 0.01377683 0.01213145 0.01176352]\n",
      "  [0.00989065 0.01073364 0.0117626  0.01017546 0.00992706]\n",
      "  [0.00885408 0.01142402 0.01042489 0.01003932 0.01083584]\n",
      "  ...\n",
      "  [0.01086964 0.01334798 0.01234335 0.01198792 0.01265165]\n",
      "  [0.01130775 0.01330036 0.01232564 0.01219856 0.01228999]\n",
      "  [0.01135231 0.01310419 0.01272452 0.01181475 0.01329945]]\n",
      "\n",
      " [[0.00989065 0.01073364 0.0117626  0.01017546 0.00992706]\n",
      "  [0.00885408 0.01142402 0.01042489 0.01003932 0.01083584]\n",
      "  [0.00860636 0.0101863  0.01048669 0.00908846 0.01061477]\n",
      "  ...\n",
      "  [0.01130775 0.01330036 0.01232564 0.01219856 0.01228999]\n",
      "  [0.01135231 0.01310419 0.01272452 0.01181475 0.01329945]\n",
      "  [0.0133086  0.01459341 0.01358523 0.01423777 0.01462284]]\n",
      "\n",
      " ...\n",
      "\n",
      " [[0.9523875  0.95414285 0.95197134 0.95215566 0.9527153 ]\n",
      "  [0.95006328 0.9530431  0.95249317 0.94894629 0.94985448]\n",
      "  [0.94814032 0.95248128 0.94939019 0.94773893 0.95079102]\n",
      "  ...\n",
      "  [0.94874033 0.95238355 0.94869609 0.94803213 0.94981857]\n",
      "  [0.94737224 0.95153833 0.94890273 0.94760477 0.94821978]\n",
      "  [0.94627343 0.95013519 0.94783303 0.94590554 0.94765701]]\n",
      "\n",
      " [[0.95006328 0.9530431  0.95249317 0.94894629 0.94985448]\n",
      "  [0.94814032 0.95248128 0.94939019 0.94773893 0.95079102]\n",
      "  [0.94801482 0.9521859  0.95030147 0.94851151 0.95018138]\n",
      "  ...\n",
      "  [0.94737224 0.95153833 0.94890273 0.94760477 0.94821978]\n",
      "  [0.94627343 0.95013519 0.94783303 0.94590554 0.94765701]\n",
      "  [0.94589755 0.94882427 0.94826838 0.94598432 0.94593583]]\n",
      "\n",
      " [[0.94814032 0.95248128 0.94939019 0.94773893 0.95079102]\n",
      "  [0.94801482 0.9521859  0.95030147 0.94851151 0.95018138]\n",
      "  [0.94952749 0.95360569 0.9503494  0.94955514 0.95040482]\n",
      "  ...\n",
      "  [0.94627343 0.95013519 0.94783303 0.94590554 0.94765701]\n",
      "  [0.94589755 0.94882427 0.94826838 0.94598432 0.94593583]\n",
      "  [0.94330699 0.9484822  0.9456454  0.94357401 0.94531175]]]\n",
      "Y_TRAIN\n",
      "[[[0.01135231 0.01310419 0.01272452 0.01181475 0.01329945]]\n",
      "\n",
      " [[0.0133086  0.01459341 0.01358523 0.01423777 0.01462284]]\n",
      "\n",
      " [[0.01660373 0.01595175 0.01493969 0.01567734 0.01841344]]\n",
      "\n",
      " ...\n",
      "\n",
      " [[0.94589755 0.94882427 0.94826838 0.94598432 0.94593583]]\n",
      "\n",
      " [[0.94330699 0.9484822  0.9456454  0.94357401 0.94531175]]\n",
      "\n",
      " [[0.94342658 0.94629064 0.94513126 0.94184037 0.94482142]]]\n"
     ]
    }
   ],
   "source": [
    "#SHAPE DATA FOR LSTM INPUT\n",
    "x_train, y_train = split_sequences_multivariate_output(train_data, look_back, look_forward)\n",
    "x_test, y_test = split_sequences_multivariate_output(test_data, look_back, look_forward)\n",
    "\n",
    "#PRINT DATA SHAPE\n",
    "print('training features shape == {}.'.format(x_train.shape))\n",
    "print('training targets shape == {}.'.format(y_train.shape))\n",
    "print('testing features shape == {}.'.format(x_test.shape))\n",
    "print('testing features shape == {}.'.format(y_test.shape))\n",
    "\n",
    "print(\"X_TRAIN\")\n",
    "print(x_train)\n",
    "print(\"Y_TRAIN\")\n",
    "print(y_train)"
   ]
  },
  {
   "cell_type": "code",
   "execution_count": 14,
   "id": "worst-wednesday",
   "metadata": {},
   "outputs": [],
   "source": [
    "#ONLY NEEDS TO HAPPEN IF LOOK FORWARD IS 1\n",
    "#y_train =  np.reshape(y_train, (y_train.shape[0], 1, y_train.shape[1]))\n",
    "#y_test =  np.reshape(y_test, (y_test.shape[0], 1, y_test.shape[1]))"
   ]
  },
  {
   "cell_type": "code",
   "execution_count": 15,
   "id": "dominant-change",
   "metadata": {},
   "outputs": [
    {
     "name": "stdout",
     "output_type": "stream",
     "text": [
      "training features shape == (28544, 12, 5).\n",
      "training targets shape == (28544, 1, 5).\n",
      "testing features shape == (0,).\n",
      "testing features shape == (0,).\n",
      "X_TRAIN\n",
      "[[[0.01353806 0.01488267 0.01387366 0.01399334 0.01554984]\n",
      "  [0.01176073 0.01277252 0.01377683 0.01213145 0.01176352]\n",
      "  [0.00989065 0.01073364 0.0117626  0.01017546 0.00992706]\n",
      "  ...\n",
      "  [0.01040548 0.01224024 0.01162609 0.01147227 0.01228803]\n",
      "  [0.01086964 0.01334798 0.01234335 0.01198792 0.01265165]\n",
      "  [0.01130775 0.01330036 0.01232564 0.01219856 0.01228999]]\n",
      "\n",
      " [[0.01176073 0.01277252 0.01377683 0.01213145 0.01176352]\n",
      "  [0.00989065 0.01073364 0.0117626  0.01017546 0.00992706]\n",
      "  [0.00885408 0.01142402 0.01042489 0.01003932 0.01083584]\n",
      "  ...\n",
      "  [0.01086964 0.01334798 0.01234335 0.01198792 0.01265165]\n",
      "  [0.01130775 0.01330036 0.01232564 0.01219856 0.01228999]\n",
      "  [0.01135231 0.01310419 0.01272452 0.01181475 0.01329945]]\n",
      "\n",
      " [[0.00989065 0.01073364 0.0117626  0.01017546 0.00992706]\n",
      "  [0.00885408 0.01142402 0.01042489 0.01003932 0.01083584]\n",
      "  [0.00860636 0.0101863  0.01048669 0.00908846 0.01061477]\n",
      "  ...\n",
      "  [0.01130775 0.01330036 0.01232564 0.01219856 0.01228999]\n",
      "  [0.01135231 0.01310419 0.01272452 0.01181475 0.01329945]\n",
      "  [0.0133086  0.01459341 0.01358523 0.01423777 0.01462284]]\n",
      "\n",
      " ...\n",
      "\n",
      " [[0.9523875  0.95414285 0.95197134 0.95215566 0.9527153 ]\n",
      "  [0.95006328 0.9530431  0.95249317 0.94894629 0.94985448]\n",
      "  [0.94814032 0.95248128 0.94939019 0.94773893 0.95079102]\n",
      "  ...\n",
      "  [0.94874033 0.95238355 0.94869609 0.94803213 0.94981857]\n",
      "  [0.94737224 0.95153833 0.94890273 0.94760477 0.94821978]\n",
      "  [0.94627343 0.95013519 0.94783303 0.94590554 0.94765701]]\n",
      "\n",
      " [[0.95006328 0.9530431  0.95249317 0.94894629 0.94985448]\n",
      "  [0.94814032 0.95248128 0.94939019 0.94773893 0.95079102]\n",
      "  [0.94801482 0.9521859  0.95030147 0.94851151 0.95018138]\n",
      "  ...\n",
      "  [0.94737224 0.95153833 0.94890273 0.94760477 0.94821978]\n",
      "  [0.94627343 0.95013519 0.94783303 0.94590554 0.94765701]\n",
      "  [0.94589755 0.94882427 0.94826838 0.94598432 0.94593583]]\n",
      "\n",
      " [[0.94814032 0.95248128 0.94939019 0.94773893 0.95079102]\n",
      "  [0.94801482 0.9521859  0.95030147 0.94851151 0.95018138]\n",
      "  [0.94952749 0.95360569 0.9503494  0.94955514 0.95040482]\n",
      "  ...\n",
      "  [0.94627343 0.95013519 0.94783303 0.94590554 0.94765701]\n",
      "  [0.94589755 0.94882427 0.94826838 0.94598432 0.94593583]\n",
      "  [0.94330699 0.9484822  0.9456454  0.94357401 0.94531175]]]\n",
      "Y_TRAIN\n",
      "[[[0.01135231 0.01310419 0.01272452 0.01181475 0.01329945]]\n",
      "\n",
      " [[0.0133086  0.01459341 0.01358523 0.01423777 0.01462284]]\n",
      "\n",
      " [[0.01660373 0.01595175 0.01493969 0.01567734 0.01841344]]\n",
      "\n",
      " ...\n",
      "\n",
      " [[0.94589755 0.94882427 0.94826838 0.94598432 0.94593583]]\n",
      "\n",
      " [[0.94330699 0.9484822  0.9456454  0.94357401 0.94531175]]\n",
      "\n",
      " [[0.94342658 0.94629064 0.94513126 0.94184037 0.94482142]]]\n"
     ]
    }
   ],
   "source": [
    "#PRINT DATA SHAPE\n",
    "print('training features shape == {}.'.format(x_train.shape))\n",
    "print('training targets shape == {}.'.format(y_train.shape))\n",
    "print('testing features shape == {}.'.format(x_test.shape))\n",
    "print('testing features shape == {}.'.format(y_test.shape))\n",
    "\n",
    "print(\"X_TRAIN\")\n",
    "print(x_train)\n",
    "print(\"Y_TRAIN\")\n",
    "print(y_train)"
   ]
  },
  {
   "cell_type": "code",
   "execution_count": 16,
   "id": "injured-initial",
   "metadata": {},
   "outputs": [
    {
     "name": "stdout",
     "output_type": "stream",
     "text": [
      "Model: \"sequential\"\n",
      "_________________________________________________________________\n",
      "Layer (type)                 Output Shape              Param #   \n",
      "=================================================================\n",
      "lstm (LSTM)                  (None, 512)               1060864   \n",
      "_________________________________________________________________\n",
      "dropout (Dropout)            (None, 512)               0         \n",
      "_________________________________________________________________\n",
      "dense (Dense)                (None, 5)                 2565      \n",
      "_________________________________________________________________\n",
      "activation (Activation)      (None, 5)                 0         \n",
      "=================================================================\n",
      "Total params: 1,063,429\n",
      "Trainable params: 1,063,429\n",
      "Non-trainable params: 0\n",
      "_________________________________________________________________\n",
      "Epoch 1/125\n",
      "1142/1142 [==============================] - 8s 5ms/step - loss: 6.5834e-04 - mae: 0.0195\n",
      "Epoch 2/125\n",
      "1142/1142 [==============================] - 5s 4ms/step - loss: 0.0087 - mae: 0.0378\n",
      "Epoch 3/125\n",
      "1142/1142 [==============================] - 5s 5ms/step - loss: 0.0013 - mae: 0.0226\n",
      "Epoch 4/125\n",
      "1142/1142 [==============================] - 5s 4ms/step - loss: 6.3353e-04 - mae: 0.0184\n",
      "Epoch 5/125\n",
      "1142/1142 [==============================] - 5s 4ms/step - loss: 5.7129e-04 - mae: 0.0172\n",
      "Epoch 6/125\n",
      "1142/1142 [==============================] - 5s 5ms/step - loss: 5.6944e-04 - mae: 0.0165\n",
      "Epoch 7/125\n",
      "1142/1142 [==============================] - 5s 4ms/step - loss: 5.7216e-04 - mae: 0.0163\n",
      "Epoch 8/125\n",
      "1142/1142 [==============================] - 5s 4ms/step - loss: 5.7257e-04 - mae: 0.0167\n",
      "Epoch 9/125\n",
      "1142/1142 [==============================] - 5s 4ms/step - loss: 0.0028 - mae: 0.0264\n",
      "Epoch 10/125\n",
      "1142/1142 [==============================] - 5s 4ms/step - loss: 7.6928e-04 - mae: 0.0195\n",
      "Epoch 11/125\n",
      "1142/1142 [==============================] - 5s 5ms/step - loss: 6.3239e-04 - mae: 0.0173\n",
      "Epoch 12/125\n",
      "1142/1142 [==============================] - 5s 4ms/step - loss: 6.0078e-04 - mae: 0.0169\n",
      "Epoch 13/125\n",
      "1142/1142 [==============================] - 5s 4ms/step - loss: 6.0354e-04 - mae: 0.0171\n",
      "Epoch 14/125\n",
      "1142/1142 [==============================] - 6s 5ms/step - loss: 5.5332e-04 - mae: 0.0167\n",
      "Epoch 15/125\n",
      "1142/1142 [==============================] - 5s 4ms/step - loss: 5.4781e-04 - mae: 0.0167\n",
      "Epoch 16/125\n",
      "1142/1142 [==============================] - 6s 5ms/step - loss: 6.7801e-04 - mae: 0.0183\n",
      "Epoch 17/125\n",
      "1142/1142 [==============================] - 5s 4ms/step - loss: 5.3612e-04 - mae: 0.0162\n",
      "Epoch 18/125\n",
      "1142/1142 [==============================] - 5s 5ms/step - loss: 5.3125e-04 - mae: 0.0162\n",
      "Epoch 19/125\n",
      "1142/1142 [==============================] - 6s 5ms/step - loss: 5.9791e-04 - mae: 0.0173\n",
      "Epoch 20/125\n",
      "1142/1142 [==============================] - 5s 4ms/step - loss: 4.9901e-04 - mae: 0.0158\n",
      "Epoch 21/125\n",
      "1142/1142 [==============================] - 5s 4ms/step - loss: 4.7398e-04 - mae: 0.0152\n",
      "Epoch 22/125\n",
      "1142/1142 [==============================] - 5s 4ms/step - loss: 4.4287e-04 - mae: 0.0146\n",
      "Epoch 23/125\n",
      "1142/1142 [==============================] - 5s 4ms/step - loss: 4.5342e-04 - mae: 0.0148\n",
      "Epoch 24/125\n",
      "1142/1142 [==============================] - 5s 4ms/step - loss: 4.2506e-04 - mae: 0.0142\n",
      "Epoch 25/125\n",
      "1142/1142 [==============================] - 5s 4ms/step - loss: 3.7079e-04 - mae: 0.0136\n",
      "Epoch 26/125\n",
      "1142/1142 [==============================] - 5s 4ms/step - loss: 0.0013 - mae: 0.0182\n",
      "Epoch 27/125\n",
      "1142/1142 [==============================] - 5s 5ms/step - loss: 3.7022e-04 - mae: 0.0139\n",
      "Epoch 28/125\n",
      "1142/1142 [==============================] - 5s 5ms/step - loss: 3.5163e-04 - mae: 0.0135\n",
      "Epoch 29/125\n",
      "1142/1142 [==============================] - 6s 5ms/step - loss: 3.5398e-04 - mae: 0.0133\n",
      "Epoch 30/125\n",
      "1142/1142 [==============================] - 5s 4ms/step - loss: 3.5099e-04 - mae: 0.0131\n",
      "Epoch 31/125\n",
      "1142/1142 [==============================] - 5s 4ms/step - loss: 3.5541e-04 - mae: 0.0131\n",
      "Epoch 32/125\n",
      "1142/1142 [==============================] - 5s 4ms/step - loss: 3.5485e-04 - mae: 0.0130\n",
      "Epoch 33/125\n",
      "1142/1142 [==============================] - 5s 4ms/step - loss: 3.4535e-04 - mae: 0.0129\n",
      "Epoch 34/125\n",
      "1142/1142 [==============================] - 5s 4ms/step - loss: 3.3105e-04 - mae: 0.0126\n",
      "Epoch 35/125\n",
      "1142/1142 [==============================] - 5s 4ms/step - loss: 3.2318e-04 - mae: 0.0125\n",
      "Epoch 36/125\n",
      "1142/1142 [==============================] - 5s 4ms/step - loss: 3.2571e-04 - mae: 0.0125\n",
      "Epoch 37/125\n",
      "1142/1142 [==============================] - 5s 5ms/step - loss: 3.1099e-04 - mae: 0.0122\n",
      "Epoch 38/125\n",
      "1142/1142 [==============================] - 5s 5ms/step - loss: 3.1775e-04 - mae: 0.0123\n",
      "Epoch 39/125\n",
      "1142/1142 [==============================] - 5s 5ms/step - loss: 2.9499e-04 - mae: 0.0120\n",
      "Epoch 40/125\n",
      "1142/1142 [==============================] - 5s 5ms/step - loss: 3.0098e-04 - mae: 0.0121\n",
      "Epoch 41/125\n",
      "1142/1142 [==============================] - 5s 5ms/step - loss: 3.0238e-04 - mae: 0.0121\n",
      "Epoch 42/125\n",
      "1142/1142 [==============================] - 5s 5ms/step - loss: 2.8591e-04 - mae: 0.0118\n",
      "Epoch 43/125\n",
      "1142/1142 [==============================] - 5s 5ms/step - loss: 2.7930e-04 - mae: 0.0117\n",
      "Epoch 44/125\n",
      "1142/1142 [==============================] - 5s 4ms/step - loss: 2.8557e-04 - mae: 0.0118\n",
      "Epoch 45/125\n",
      "1142/1142 [==============================] - 5s 4ms/step - loss: 2.9859e-04 - mae: 0.0120\n",
      "Epoch 46/125\n",
      "1142/1142 [==============================] - 5s 5ms/step - loss: 2.8846e-04 - mae: 0.0118\n",
      "Epoch 47/125\n",
      "1142/1142 [==============================] - 5s 4ms/step - loss: 2.8156e-04 - mae: 0.0117\n",
      "Epoch 48/125\n",
      "1142/1142 [==============================] - 5s 4ms/step - loss: 2.8848e-04 - mae: 0.0119\n",
      "Epoch 49/125\n",
      "1142/1142 [==============================] - 5s 5ms/step - loss: 2.8169e-04 - mae: 0.0117\n",
      "Epoch 50/125\n",
      "1142/1142 [==============================] - 5s 4ms/step - loss: 2.8106e-04 - mae: 0.0117\n",
      "Epoch 51/125\n",
      "1142/1142 [==============================] - 5s 5ms/step - loss: 2.8012e-04 - mae: 0.0116\n",
      "Epoch 52/125\n",
      "1142/1142 [==============================] - 5s 5ms/step - loss: 2.8262e-04 - mae: 0.0118\n",
      "Epoch 53/125\n",
      "1142/1142 [==============================] - 5s 4ms/step - loss: 2.7730e-04 - mae: 0.0117\n",
      "Epoch 54/125\n",
      "1142/1142 [==============================] - 5s 4ms/step - loss: 2.7883e-04 - mae: 0.0117\n",
      "Epoch 55/125\n",
      "1142/1142 [==============================] - 5s 4ms/step - loss: 2.7489e-04 - mae: 0.0116\n",
      "Epoch 56/125\n",
      "1142/1142 [==============================] - 6s 5ms/step - loss: 2.8196e-04 - mae: 0.0117\n",
      "Epoch 57/125\n",
      "1142/1142 [==============================] - 6s 5ms/step - loss: 2.8497e-04 - mae: 0.0118\n",
      "Epoch 58/125\n",
      "1142/1142 [==============================] - 8s 7ms/step - loss: 2.7151e-04 - mae: 0.0115\n",
      "Epoch 59/125\n",
      "1142/1142 [==============================] - 5s 5ms/step - loss: 2.8215e-04 - mae: 0.0117\n",
      "Epoch 60/125\n",
      "1142/1142 [==============================] - 5s 5ms/step - loss: 2.7325e-04 - mae: 0.0115\n",
      "Epoch 61/125\n",
      "1142/1142 [==============================] - 6s 5ms/step - loss: 2.8784e-04 - mae: 0.0118\n",
      "Epoch 62/125\n",
      "1142/1142 [==============================] - 5s 5ms/step - loss: 2.7994e-04 - mae: 0.0117\n",
      "Epoch 63/125\n",
      "1142/1142 [==============================] - 5s 5ms/step - loss: 2.7059e-04 - mae: 0.0115\n",
      "Epoch 64/125\n",
      "1142/1142 [==============================] - 5s 4ms/step - loss: 2.7288e-04 - mae: 0.0116\n",
      "Epoch 65/125\n",
      "1142/1142 [==============================] - 5s 4ms/step - loss: 2.7140e-04 - mae: 0.0114\n",
      "Epoch 66/125\n",
      "1142/1142 [==============================] - 5s 4ms/step - loss: 2.8475e-04 - mae: 0.0117\n",
      "Epoch 67/125\n",
      "1142/1142 [==============================] - 5s 4ms/step - loss: 2.7127e-04 - mae: 0.0115\n",
      "Epoch 68/125\n",
      "1142/1142 [==============================] - 5s 4ms/step - loss: 2.9538e-04 - mae: 0.0119\n",
      "Epoch 69/125\n",
      "1142/1142 [==============================] - 5s 4ms/step - loss: 2.6388e-04 - mae: 0.0113\n",
      "Epoch 70/125\n",
      "1142/1142 [==============================] - 5s 5ms/step - loss: 2.6101e-04 - mae: 0.0114\n",
      "Epoch 71/125\n",
      "1142/1142 [==============================] - 5s 4ms/step - loss: 2.8330e-04 - mae: 0.0117\n",
      "Epoch 72/125\n"
     ]
    },
    {
     "name": "stdout",
     "output_type": "stream",
     "text": [
      "1142/1142 [==============================] - 5s 4ms/step - loss: 2.6896e-04 - mae: 0.0114\n",
      "Epoch 73/125\n",
      "1142/1142 [==============================] - 5s 4ms/step - loss: 2.8624e-04 - mae: 0.0117\n",
      "Epoch 74/125\n",
      "1142/1142 [==============================] - 5s 4ms/step - loss: 2.7289e-04 - mae: 0.0114\n",
      "Epoch 75/125\n",
      "1142/1142 [==============================] - 5s 5ms/step - loss: 2.7482e-04 - mae: 0.0115\n",
      "Epoch 76/125\n",
      "1142/1142 [==============================] - 5s 4ms/step - loss: 2.7325e-04 - mae: 0.0114\n",
      "Epoch 77/125\n",
      "1142/1142 [==============================] - 5s 5ms/step - loss: 2.7851e-04 - mae: 0.0116A: 2s - loss: 3.4804e-04 - ETA: 1\n",
      "Epoch 78/125\n",
      "1142/1142 [==============================] - 5s 4ms/step - loss: 2.8574e-04 - mae: 0.0116\n",
      "Epoch 79/125\n",
      "1142/1142 [==============================] - 5s 4ms/step - loss: 2.5134e-04 - mae: 0.0111\n",
      "Epoch 80/125\n",
      "1142/1142 [==============================] - 5s 4ms/step - loss: 2.5532e-04 - mae: 0.0112\n",
      "Epoch 81/125\n",
      "1142/1142 [==============================] - 5s 4ms/step - loss: 2.9845e-04 - mae: 0.0119\n",
      "Epoch 82/125\n",
      "1142/1142 [==============================] - 5s 4ms/step - loss: 2.7160e-04 - mae: 0.0113\n",
      "Epoch 83/125\n",
      "1142/1142 [==============================] - 5s 5ms/step - loss: 2.7701e-04 - mae: 0.0115\n",
      "Epoch 84/125\n",
      "1142/1142 [==============================] - 6s 5ms/step - loss: 2.7390e-04 - mae: 0.0114\n",
      "Epoch 85/125\n",
      "1142/1142 [==============================] - 6s 5ms/step - loss: 2.6310e-04 - mae: 0.0112A: 1s - l\n",
      "Epoch 86/125\n",
      "1142/1142 [==============================] - 5s 5ms/step - loss: 2.8117e-04 - mae: 0.0116\n",
      "Epoch 87/125\n",
      "1142/1142 [==============================] - 5s 5ms/step - loss: 2.7333e-04 - mae: 0.0115\n",
      "Epoch 88/125\n",
      "1142/1142 [==============================] - 5s 5ms/step - loss: 2.4852e-04 - mae: 0.0111\n",
      "Epoch 89/125\n",
      "1142/1142 [==============================] - 5s 4ms/step - loss: 2.6974e-04 - mae: 0.0113\n",
      "Epoch 90/125\n",
      "1142/1142 [==============================] - 5s 4ms/step - loss: 2.7980e-04 - mae: 0.0115\n",
      "Epoch 91/125\n",
      "1142/1142 [==============================] - 5s 5ms/step - loss: 2.6751e-04 - mae: 0.0113\n",
      "Epoch 92/125\n",
      "1142/1142 [==============================] - 5s 5ms/step - loss: 2.6772e-04 - mae: 0.0115\n",
      "Epoch 93/125\n",
      "1142/1142 [==============================] - 5s 4ms/step - loss: 2.6287e-04 - mae: 0.0112\n",
      "Epoch 94/125\n",
      "1142/1142 [==============================] - 5s 4ms/step - loss: 2.8782e-04 - mae: 0.0117\n",
      "Epoch 95/125\n",
      "1142/1142 [==============================] - 5s 4ms/step - loss: 2.6840e-04 - mae: 0.0113\n",
      "Epoch 96/125\n",
      "1142/1142 [==============================] - 5s 4ms/step - loss: 2.5494e-04 - mae: 0.0111\n",
      "Epoch 97/125\n",
      "1142/1142 [==============================] - 5s 4ms/step - loss: 2.5452e-04 - mae: 0.0110\n",
      "Epoch 98/125\n",
      "1142/1142 [==============================] - 5s 4ms/step - loss: 2.8076e-04 - mae: 0.0115\n",
      "Epoch 99/125\n",
      "1142/1142 [==============================] - 5s 4ms/step - loss: 2.6296e-04 - mae: 0.0112\n",
      "Epoch 100/125\n",
      "1142/1142 [==============================] - 5s 4ms/step - loss: 2.7550e-04 - mae: 0.0115\n",
      "Epoch 101/125\n",
      "1142/1142 [==============================] - 5s 4ms/step - loss: 2.6278e-04 - mae: 0.0113\n",
      "Epoch 102/125\n",
      "1142/1142 [==============================] - 5s 5ms/step - loss: 2.7508e-04 - mae: 0.0115\n",
      "Epoch 103/125\n",
      "1142/1142 [==============================] - 5s 4ms/step - loss: 2.5505e-04 - mae: 0.0112\n",
      "Epoch 104/125\n",
      "1142/1142 [==============================] - 5s 4ms/step - loss: 2.6791e-04 - mae: 0.0114\n",
      "Epoch 105/125\n",
      "1142/1142 [==============================] - 5s 5ms/step - loss: 2.6067e-04 - mae: 0.0112\n",
      "Epoch 106/125\n",
      "1142/1142 [==============================] - 5s 4ms/step - loss: 2.7564e-04 - mae: 0.0114\n",
      "Epoch 107/125\n",
      "1142/1142 [==============================] - 5s 4ms/step - loss: 2.5788e-04 - mae: 0.0112\n",
      "Epoch 108/125\n",
      "1142/1142 [==============================] - 5s 4ms/step - loss: 2.6724e-04 - mae: 0.0114\n",
      "Epoch 109/125\n",
      "1142/1142 [==============================] - 5s 4ms/step - loss: 2.6473e-04 - mae: 0.0113\n",
      "Epoch 110/125\n",
      "1142/1142 [==============================] - 5s 5ms/step - loss: 2.6804e-04 - mae: 0.0115\n",
      "Epoch 111/125\n",
      "1142/1142 [==============================] - 5s 4ms/step - loss: 2.6713e-04 - mae: 0.0113\n",
      "Epoch 112/125\n",
      "1142/1142 [==============================] - 5s 4ms/step - loss: 2.6857e-04 - mae: 0.0114\n",
      "Epoch 113/125\n",
      "1142/1142 [==============================] - 5s 4ms/step - loss: 2.8313e-04 - mae: 0.0116\n",
      "Epoch 114/125\n",
      "1142/1142 [==============================] - 5s 4ms/step - loss: 2.3524e-04 - mae: 0.0107\n",
      "Epoch 115/125\n",
      "1142/1142 [==============================] - 5s 4ms/step - loss: 2.5789e-04 - mae: 0.0113\n",
      "Epoch 116/125\n",
      "1142/1142 [==============================] - 5s 4ms/step - loss: 2.5848e-04 - mae: 0.0112\n",
      "Epoch 117/125\n",
      "1142/1142 [==============================] - 5s 4ms/step - loss: 2.5230e-04 - mae: 0.0110\n",
      "Epoch 118/125\n",
      "1142/1142 [==============================] - 5s 4ms/step - loss: 2.4908e-04 - mae: 0.0111\n",
      "Epoch 119/125\n",
      "1142/1142 [==============================] - 5s 4ms/step - loss: 2.6820e-04 - mae: 0.0114\n",
      "Epoch 120/125\n",
      "1142/1142 [==============================] - 5s 4ms/step - loss: 2.6199e-04 - mae: 0.0113\n",
      "Epoch 121/125\n",
      "1142/1142 [==============================] - 5s 4ms/step - loss: 2.6686e-04 - mae: 0.0114\n",
      "Epoch 122/125\n",
      "1142/1142 [==============================] - 5s 4ms/step - loss: 2.4574e-04 - mae: 0.0110\n",
      "Epoch 123/125\n",
      "1142/1142 [==============================] - 5s 4ms/step - loss: 2.7356e-04 - mae: 0.0115\n",
      "Epoch 124/125\n",
      "1142/1142 [==============================] - 5s 4ms/step - loss: 2.4348e-04 - mae: 0.0110\n",
      "Epoch 125/125\n",
      "1142/1142 [==============================] - 5s 4ms/step - loss: 2.5428e-04 - mae: 0.0111\n"
     ]
    }
   ],
   "source": [
    "# CLEAN UP MEMORY\n",
    "gc.collect()\n",
    "# random seed for reproducibility\n",
    "np.random.seed(random_seed)\n",
    "# initialise model architecture\n",
    "model = build_model(x_train, neurons=neurons, activ_func=activation_function, dropout=dropout, loss=loss, optimizer=optimizer)\n",
    "# train model on data\n",
    "#history = model.fit(x_train, y_train, epochs=epochs, batch_size=batch_size, verbose=1, validation_data=(x_test, y_test), shuffle=False)\n",
    "history = model.fit(x_train, y_train, epochs=epochs, batch_size=batch_size, verbose=1, shuffle=False)"
   ]
  },
  {
   "cell_type": "code",
   "execution_count": 17,
   "id": "choice-contrast",
   "metadata": {},
   "outputs": [
    {
     "ename": "KeyError",
     "evalue": "'val_loss'",
     "output_type": "error",
     "traceback": [
      "\u001b[1;31m---------------------------------------------------------------------------\u001b[0m",
      "\u001b[1;31mKeyError\u001b[0m                                  Traceback (most recent call last)",
      "\u001b[1;32m<ipython-input-17-0b9fdb263d82>\u001b[0m in \u001b[0;36m<module>\u001b[1;34m\u001b[0m\n\u001b[0;32m      1\u001b[0m \u001b[1;31m#PLOT LOSS\u001b[0m\u001b[1;33m\u001b[0m\u001b[1;33m\u001b[0m\u001b[1;33m\u001b[0m\u001b[0m\n\u001b[0;32m      2\u001b[0m \u001b[0mplt\u001b[0m\u001b[1;33m.\u001b[0m\u001b[0mplot\u001b[0m\u001b[1;33m(\u001b[0m\u001b[0mhistory\u001b[0m\u001b[1;33m.\u001b[0m\u001b[0mhistory\u001b[0m\u001b[1;33m[\u001b[0m\u001b[1;34m'loss'\u001b[0m\u001b[1;33m]\u001b[0m\u001b[1;33m)\u001b[0m\u001b[1;33m\u001b[0m\u001b[1;33m\u001b[0m\u001b[0m\n\u001b[1;32m----> 3\u001b[1;33m \u001b[0mplt\u001b[0m\u001b[1;33m.\u001b[0m\u001b[0mplot\u001b[0m\u001b[1;33m(\u001b[0m\u001b[0mhistory\u001b[0m\u001b[1;33m.\u001b[0m\u001b[0mhistory\u001b[0m\u001b[1;33m[\u001b[0m\u001b[1;34m'val_loss'\u001b[0m\u001b[1;33m]\u001b[0m\u001b[1;33m)\u001b[0m\u001b[1;33m\u001b[0m\u001b[1;33m\u001b[0m\u001b[0m\n\u001b[0m\u001b[0;32m      4\u001b[0m \u001b[0mplt\u001b[0m\u001b[1;33m.\u001b[0m\u001b[0mtitle\u001b[0m\u001b[1;33m(\u001b[0m\u001b[1;34m'model loss'\u001b[0m\u001b[1;33m)\u001b[0m\u001b[1;33m\u001b[0m\u001b[1;33m\u001b[0m\u001b[0m\n\u001b[0;32m      5\u001b[0m \u001b[0mplt\u001b[0m\u001b[1;33m.\u001b[0m\u001b[0mylabel\u001b[0m\u001b[1;33m(\u001b[0m\u001b[1;34m'loss'\u001b[0m\u001b[1;33m)\u001b[0m\u001b[1;33m\u001b[0m\u001b[1;33m\u001b[0m\u001b[0m\n",
      "\u001b[1;31mKeyError\u001b[0m: 'val_loss'"
     ]
    },
    {
     "data": {
      "image/png": "[encoded data removed]",
      "text/plain": [
       "<Figure size 432x288 with 1 Axes>"
      ]
     },
     "metadata": {
      "needs_background": "light"
     },
     "output_type": "display_data"
    }
   ],
   "source": [
    "#PLOT LOSS\n",
    "plt.plot(history.history['loss'])\n",
    "plt.plot(history.history['val_loss'])\n",
    "plt.title('model loss')\n",
    "plt.ylabel('loss')\n",
    "plt.xlabel('epoch')\n",
    "plt.legend(['train', 'val'], loc='upper left')\n",
    "plt.show()"
   ]
  },
  {
   "cell_type": "code",
   "execution_count": 18,
   "id": "lyric-diploma",
   "metadata": {},
   "outputs": [
    {
     "ename": "KeyError",
     "evalue": "'val_mae'",
     "output_type": "error",
     "traceback": [
      "\u001b[1;31m---------------------------------------------------------------------------\u001b[0m",
      "\u001b[1;31mKeyError\u001b[0m                                  Traceback (most recent call last)",
      "\u001b[1;32m<ipython-input-18-e07f0420c03c>\u001b[0m in \u001b[0;36m<module>\u001b[1;34m\u001b[0m\n\u001b[0;32m      1\u001b[0m \u001b[1;31m#PLOT LOSS\u001b[0m\u001b[1;33m\u001b[0m\u001b[1;33m\u001b[0m\u001b[1;33m\u001b[0m\u001b[0m\n\u001b[0;32m      2\u001b[0m \u001b[0mplt\u001b[0m\u001b[1;33m.\u001b[0m\u001b[0mplot\u001b[0m\u001b[1;33m(\u001b[0m\u001b[0mhistory\u001b[0m\u001b[1;33m.\u001b[0m\u001b[0mhistory\u001b[0m\u001b[1;33m[\u001b[0m\u001b[1;34m'mae'\u001b[0m\u001b[1;33m]\u001b[0m\u001b[1;33m)\u001b[0m\u001b[1;33m\u001b[0m\u001b[1;33m\u001b[0m\u001b[0m\n\u001b[1;32m----> 3\u001b[1;33m \u001b[0mplt\u001b[0m\u001b[1;33m.\u001b[0m\u001b[0mplot\u001b[0m\u001b[1;33m(\u001b[0m\u001b[0mhistory\u001b[0m\u001b[1;33m.\u001b[0m\u001b[0mhistory\u001b[0m\u001b[1;33m[\u001b[0m\u001b[1;34m'val_mae'\u001b[0m\u001b[1;33m]\u001b[0m\u001b[1;33m)\u001b[0m\u001b[1;33m\u001b[0m\u001b[1;33m\u001b[0m\u001b[0m\n\u001b[0m\u001b[0;32m      4\u001b[0m \u001b[0mplt\u001b[0m\u001b[1;33m.\u001b[0m\u001b[0mtitle\u001b[0m\u001b[1;33m(\u001b[0m\u001b[1;34m'model mae'\u001b[0m\u001b[1;33m)\u001b[0m\u001b[1;33m\u001b[0m\u001b[1;33m\u001b[0m\u001b[0m\n\u001b[0;32m      5\u001b[0m \u001b[0mplt\u001b[0m\u001b[1;33m.\u001b[0m\u001b[0mylabel\u001b[0m\u001b[1;33m(\u001b[0m\u001b[1;34m'mae'\u001b[0m\u001b[1;33m)\u001b[0m\u001b[1;33m\u001b[0m\u001b[1;33m\u001b[0m\u001b[0m\n",
      "\u001b[1;31mKeyError\u001b[0m: 'val_mae'"
     ]
    },
    {
     "data": {
      "image/png": "[encoded data removed]",
      "text/plain": [
       "<Figure size 432x288 with 1 Axes>"
      ]
     },
     "metadata": {
      "needs_background": "light"
     },
     "output_type": "display_data"
    }
   ],
   "source": [
    "#PLOT LOSS\n",
    "plt.plot(history.history['mae'])\n",
    "plt.plot(history.history['val_mae'])\n",
    "plt.title('model mae')\n",
    "plt.ylabel('mae')\n",
    "plt.xlabel('epoch')\n",
    "plt.legend(['train', 'val'], loc='upper left')\n",
    "plt.show()"
   ]
  },
  {
   "cell_type": "code",
   "execution_count": 19,
   "id": "international-stockholm",
   "metadata": {},
   "outputs": [
    {
     "name": "stdout",
     "output_type": "stream",
     "text": [
      "(28544, 5)\n"
     ]
    }
   ],
   "source": [
    "#PERFORM PREDICTIONS\n",
    "train_predict = model.predict(x_train)\n",
    "print(train_predict.shape)"
   ]
  },
  {
   "cell_type": "code",
   "execution_count": null,
   "id": "norman-progress",
   "metadata": {},
   "outputs": [],
   "source": [
    "test_predict = model.predict(x_test)\n",
    "print(test_predict.shape)"
   ]
  },
  {
   "cell_type": "code",
   "execution_count": 20,
   "id": "powerful-replica",
   "metadata": {},
   "outputs": [
    {
     "name": "stdout",
     "output_type": "stream",
     "text": [
      "(28544, 1)\n"
     ]
    }
   ],
   "source": [
    "train_predict_shaped = scaler.inverse_transform(np.array(train_predict))\n",
    "train_predict_shaped = train_predict_shaped[:,4:5]\n",
    "print(train_predict_shaped.shape)"
   ]
  },
  {
   "cell_type": "code",
   "execution_count": null,
   "id": "decreased-jefferson",
   "metadata": {},
   "outputs": [],
   "source": [
    "test_predict_shaped = scaler.inverse_transform(np.array(test_predict))\n",
    "test_predict_shaped = test_predict_shaped[:,4:5]\n",
    "print(test_predict_shaped.shape)"
   ]
  },
  {
   "cell_type": "code",
   "execution_count": 21,
   "id": "greek-veteran",
   "metadata": {},
   "outputs": [
    {
     "name": "stdout",
     "output_type": "stream",
     "text": [
      "Train Score: 0.00 RMSE\n",
      "Train Score: 0.06 RMSE\n",
      "Train Score: 0.06 MAE\n",
      "Train Score: 4975822269.59 MAPE\n"
     ]
    }
   ],
   "source": [
    "train_mse = mean_squared_error(y_train[:,0,4], train_predict[:,4])\n",
    "# calculate mean squared error\n",
    "print('Train Score: %.2f RMSE' % (train_mse))\n",
    "# calculate root mean squared error\n",
    "print('Train Score: %.2f RMSE' % (math.sqrt(train_mse)))\n",
    "# calculate root mean abs error\n",
    "print('Train Score: %.2f MAE' % (mean_absolute_error(y_train[:,0,4], train_predict[:,4])))\n",
    "# calculate root mean squared error\n",
    "print('Train Score: %.2f MAPE' % (mean_absolute_percentage_error(y_train[:,0,4], train_predict[:,4])))"
   ]
  },
  {
   "cell_type": "code",
   "execution_count": null,
   "id": "prescribed-christianity",
   "metadata": {},
   "outputs": [],
   "source": [
    "test_mse = mean_squared_error(y_test[:,0,4], test_predict[:,4])\n",
    "print('Test Score: %.2f RMSE' % (test_mse))\n",
    "print('Test Score: %.2f RMSE' % (math.sqrt(test_mse)))\n",
    "print('Test Score: %.2f MAE' % (mean_absolute_error(y_test[:,0,4], test_predict[:,4])))\n",
    "print('Test Score: %.2f MAPE' % (mean_absolute_percentage_error(y_test[:,0,4], test_predict[:,4])))"
   ]
  },
  {
   "cell_type": "code",
   "execution_count": 22,
   "id": "apart-twins",
   "metadata": {},
   "outputs": [],
   "source": [
    "\n",
    "baseData = scaler.inverse_transform(data)[:, 4:5]\n",
    "# initialize to length of base data\n",
    "trainPredictPlot = np.empty_like(baseData)\n",
    "# set all elements to nan\n",
    "trainPredictPlot[:, :] = np.nan\n",
    "# shift train predictions by window length for plotting\n",
    "trainPredictPlot[look_back:len(train_predict_shaped)+look_back, :] = train_predict_shaped"
   ]
  },
  {
   "cell_type": "code",
   "execution_count": 23,
   "id": "efficient-discount",
   "metadata": {},
   "outputs": [
    {
     "ename": "NameError",
     "evalue": "name 'test_predict_shaped' is not defined",
     "output_type": "error",
     "traceback": [
      "\u001b[1;31m---------------------------------------------------------------------------\u001b[0m",
      "\u001b[1;31mNameError\u001b[0m                                 Traceback (most recent call last)",
      "\u001b[1;32m<ipython-input-23-b39f8fe37a46>\u001b[0m in \u001b[0;36m<module>\u001b[1;34m\u001b[0m\n\u001b[0;32m      4\u001b[0m \u001b[0mtestPredictPlot\u001b[0m\u001b[1;33m[\u001b[0m\u001b[1;33m:\u001b[0m\u001b[1;33m,\u001b[0m \u001b[1;33m:\u001b[0m\u001b[1;33m]\u001b[0m \u001b[1;33m=\u001b[0m \u001b[0mnp\u001b[0m\u001b[1;33m.\u001b[0m\u001b[0mnan\u001b[0m\u001b[1;33m\u001b[0m\u001b[1;33m\u001b[0m\u001b[0m\n\u001b[0;32m      5\u001b[0m \u001b[1;31m#shift by length of training predictions plus\u001b[0m\u001b[1;33m\u001b[0m\u001b[1;33m\u001b[0m\u001b[1;33m\u001b[0m\u001b[0m\n\u001b[1;32m----> 6\u001b[1;33m \u001b[0mtestPredictPlot\u001b[0m\u001b[1;33m[\u001b[0m\u001b[0mlen\u001b[0m\u001b[1;33m(\u001b[0m\u001b[0mtrain_predict_shaped\u001b[0m\u001b[1;33m)\u001b[0m\u001b[1;33m+\u001b[0m\u001b[1;33m(\u001b[0m\u001b[0mlook_back\u001b[0m\u001b[1;33m*\u001b[0m\u001b[1;36m2\u001b[0m\u001b[1;33m)\u001b[0m\u001b[1;33m+\u001b[0m\u001b[1;36m1\u001b[0m\u001b[1;33m:\u001b[0m\u001b[0mlen\u001b[0m\u001b[1;33m(\u001b[0m\u001b[0mbaseData\u001b[0m\u001b[1;33m)\u001b[0m\u001b[1;33m-\u001b[0m\u001b[1;36m1\u001b[0m\u001b[1;33m,\u001b[0m \u001b[1;33m:\u001b[0m\u001b[1;33m]\u001b[0m \u001b[1;33m=\u001b[0m \u001b[0mtest_predict_shaped\u001b[0m\u001b[1;33m[\u001b[0m\u001b[1;36m0\u001b[0m\u001b[1;33m:\u001b[0m\u001b[1;36m12901\u001b[0m\u001b[1;33m,\u001b[0m \u001b[1;33m:\u001b[0m\u001b[1;33m]\u001b[0m\u001b[1;33m\u001b[0m\u001b[1;33m\u001b[0m\u001b[0m\n\u001b[0m",
      "\u001b[1;31mNameError\u001b[0m: name 'test_predict_shaped' is not defined"
     ]
    }
   ],
   "source": [
    "# initialize to length of base data\n",
    "testPredictPlot = np.empty_like(baseData)\n",
    "#set all elements to nan\n",
    "testPredictPlot[:, :] = np.nan\n",
    "#shift by length of training predictions plus \n",
    "testPredictPlot[len(train_predict_shaped)+(look_back*2)+1:len(baseData)-1, :] = test_predict_shaped[0:12901, :]"
   ]
  },
  {
   "cell_type": "code",
   "execution_count": 24,
   "id": "genuine-length",
   "metadata": {},
   "outputs": [
    {
     "data": {
      "text/plain": [
       "<matplotlib.legend.Legend at 0x1cc49097b50>"
      ]
     },
     "execution_count": 24,
     "metadata": {},
     "output_type": "execute_result"
    },
    {
     "data": {
      "image/png": "[encoded data removed]",
      "text/plain": [
       "<Figure size 1080x1080 with 1 Axes>"
      ]
     },
     "metadata": {
      "needs_background": "light"
     },
     "output_type": "display_data"
    }
   ],
   "source": [
    "# plot baseline and predictions\n",
    "plt.figure(figsize=(15,15))\n",
    "plt.plot(baseData, '-', color='k', label='Close')\n",
    "plt.plot(trainPredictPlot, '-', color='g', label='Train Predicted Close')\n",
    "plt.plot(testPredictPlot, '-', color='r', label='Test Predicted Close')\n",
    "plt.legend(fontsize=20)"
   ]
  },
  {
   "cell_type": "code",
   "execution_count": null,
   "id": "final-feelings",
   "metadata": {},
   "outputs": [],
   "source": [
    "baseTestData = scaler.inverse_transform(test_data)[:, 4:5]\n",
    "testPredictPlot2 = np.empty_like(baseTestData)\n",
    "testPredictPlot2[:, :] = np.nan\n",
    "testPredictPlot2[look_back:len(train_predict_shaped)+look_back, :] = test_predict_shaped\n",
    "# plot baseline and predictions\n",
    "plt.figure(figsize=(15,15))\n",
    "plt.plot(baseTestData, '-', color='k', label='Close')\n",
    "plt.plot(testPredictPlot2, '-', color='r', label='Test Predicted Close')\n",
    "plt.legend(fontsize=20)\n",
    "\n",
    "plt.show()"
   ]
  },
  {
   "cell_type": "code",
   "execution_count": 25,
   "id": "spoken-chosen",
   "metadata": {},
   "outputs": [],
   "source": [
    "from datetime import datetime\n",
    "import os\n",
    "\n",
    "#CREATE OUTPUT DIRECTORY\n",
    "ts = datetime.now().strftime(\"%m_%d_%Y_%H_%M_%S\")\n",
    "output_dir = os.path.join(\"C:/ProgramData/ETH/Model/\", ts)\n",
    "\n",
    "os.mkdir(output_dir)\n",
    "\n",
    "model_json = model.to_json()\n",
    "#WRITE OUT MODEL\n",
    "with open(os.path.join(output_dir, \"model.json\"), \"w\") as json_file:\n",
    "    json_file.write(model_json)\n",
    "    \n",
    "hyper_params = \"NEURONS: \" + str(neurons) + \"\\r\\n\"\n",
    "hyper_params + \"ACTIVATION_FUNC: \" + str(activation_function) + \"\\r\\n\"\n",
    "hyper_params + \"LOSS: \" + str(loss) + \"\\r\\n\"\n",
    "hyper_params + \"OPTIMIZER: \" + str(optimizer) + \"\\r\\n\"\n",
    "hyper_params + \"DROPOUT: \" + str(dropout) + \"\\r\\n\"\n",
    "hyper_params + \"BATCH_SIZE: \" + str(batch_size) + \"\\r\\n\"\n",
    "hyper_params + \"EPOCHS: \" + str(epochs) + \"\\r\\n\"\n",
    "hyper_params + \"TRAINING_SPLIT: \" + str(training_split) + \"\\r\\n\"\n",
    "hyper_params + \"LOOK_BACK: \" + str(look_back) + \"\\r\\n\"\n",
    "hyper_params + \"LOOK_FORWARD: \" + str(look_forward) + \"\\r\\n\"\n",
    "hyper_params + \"RANDOM_SEED: \" + str(random_seed) + \"\\r\\n\"\n",
    "    \n",
    "with open(os.path.join(output_dir, \"hyper_params.txt\"), \"w\") as param_file:\n",
    "    param_file.write(hyper_params)\n",
    "\n",
    "model.save_weights(os.path.join(output_dir, \"weights.h5\"))"
   ]
  }
 ],
 "metadata": {
  "kernelspec": {
   "display_name": "Python 3",
   "language": "python",
   "name": "python3"
  },
  "language_info": {
   "codemirror_mode": {
    "name": "ipython",
    "version": 3
   },
   "file_extension": ".py",
   "mimetype": "text/x-python",
   "name": "python",
   "nbconvert_exporter": "python",
   "pygments_lexer": "ipython3",
   "version": "3.8.5"
  }
 },
 "nbformat": 4,
 "nbformat_minor": 5
}
