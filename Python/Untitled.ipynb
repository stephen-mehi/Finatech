{
 "cells": [
  {
   "cell_type": "code",
   "execution_count": 1,
   "id": "absent-alarm",
   "metadata": {},
   "outputs": [
    {
     "name": "stdout",
     "output_type": "stream",
     "text": [
      "True\n",
      "[PhysicalDevice(name='/physical_device:GPU:0', device_type='GPU')]\n"
     ]
    },
    {
     "data": {
      "text/plain": [
       "22"
      ]
     },
     "execution_count": 1,
     "metadata": {},
     "output_type": "execute_result"
    }
   ],
   "source": [
    "import gc\n",
    "import datetime\n",
    "import pandas as pd\n",
    "import numpy as np\n",
    "import matplotlib.pyplot as plt\n",
    "import seaborn as sns\n",
    "from sklearn.svm import SVC\n",
    "from sklearn.feature_selection import RFE\n",
    "from sklearn.preprocessing import MinMaxScaler\n",
    "from sklearn.preprocessing import StandardScaler\n",
    "from sklearn.metrics import mean_squared_error\n",
    "from sklearn.metrics import mean_absolute_error\n",
    "from sklearn.metrics import mean_absolute_percentage_error\n",
    "import math\n",
    "\n",
    "import tensorflow as tf\n",
    "from tensorflow import keras\n",
    "\n",
    "from tensorflow.keras import models\n",
    "from tensorflow.keras import layers\n",
    "\n",
    "print(tf.test.is_built_with_cuda())\n",
    "print(tf.config.list_physical_devices('GPU')) \n",
    "\n",
    "# CLEAN UP MEMORY\n",
    "gc.collect()"
   ]
  },
  {
   "cell_type": "code",
   "execution_count": 2,
   "id": "about-dependence",
   "metadata": {},
   "outputs": [
    {
     "name": "stdout",
     "output_type": "stream",
     "text": [
      "             close        date         high          low         open  \\\n",
      "0       454.914024  1604880000   455.544267   454.056224   454.097939   \n",
      "1       453.433040  1604880300   454.678762   453.038198   454.678762   \n",
      "2       452.669440  1604880600   454.500000   452.669440   453.671881   \n",
      "3       451.535630  1604880900   453.007440   451.132360   452.499455   \n",
      "4       452.634457  1604881200   453.000000   451.939406   451.939406   \n",
      "...            ...         ...          ...          ...          ...   \n",
      "43065  2072.103614  1617778800  2089.056150  2071.007976  2088.562283   \n",
      "43066  2072.088014  1617779100  2075.983447  2065.557520  2072.103614   \n",
      "43067  2077.117034  1617779400  2077.875883  2072.175936  2073.086013   \n",
      "43068  2072.138063  1617779700  2077.886044  2069.025950  2077.207710   \n",
      "43069  2076.864882  1617780000  2076.864882  2071.103559  2072.761413   \n",
      "\n",
      "       quoteVolume         volume  weightedAverage  \n",
      "0         5.931550    2695.082042       454.363902  \n",
      "1        31.188132   14153.943388       453.824655  \n",
      "2        15.949800    7233.596169       453.522696  \n",
      "3        60.272036   27249.010255       452.100379  \n",
      "4        18.631152    8434.599566       452.714873  \n",
      "...            ...            ...              ...  \n",
      "43065    94.729330  196892.398604      2078.473465  \n",
      "43066   138.657571  287065.857383      2070.322271  \n",
      "43067   214.512014  445186.640469      2075.345956  \n",
      "43068   147.437182  305655.581256      2073.124147  \n",
      "43069   157.141034  325893.919288      2073.894453  \n",
      "\n",
      "[43070 rows x 8 columns]\n"
     ]
    }
   ],
   "source": [
    "#READ DATA FROM FILE\n",
    "dataset=pd.read_csv(\"C:/ProgramData/ETH/TrainingData/training.csv\", sep=',',header=0)\n",
    "#PRINT DATA\n",
    "print(dataset)"
   ]
  },
  {
   "cell_type": "code",
   "execution_count": 3,
   "id": "bored-louisiana",
   "metadata": {},
   "outputs": [
    {
     "name": "stdout",
     "output_type": "stream",
     "text": [
      "                    close      date      high       low      open  \\\n",
      "close            1.000000  0.946695  0.999981  0.999979  0.999963   \n",
      "date             0.946695  1.000000  0.946588  0.946822  0.946687   \n",
      "high             0.999981  0.946588  1.000000  0.999963  0.999981   \n",
      "low              0.999979  0.946822  0.999963  1.000000  0.999976   \n",
      "open             0.999963  0.946687  0.999981  0.999976  1.000000   \n",
      "quoteVolume      0.026433 -0.009313  0.029006  0.023458  0.026770   \n",
      "volume           0.253403  0.196249  0.255916  0.250493  0.253709   \n",
      "weightedAverage  0.999989  0.946708  0.999989  0.999989  0.999983   \n",
      "\n",
      "                 quoteVolume    volume  weightedAverage  \n",
      "close               0.026433  0.253403         0.999989  \n",
      "date               -0.009313  0.196249         0.946708  \n",
      "high                0.029006  0.255916         0.999989  \n",
      "low                 0.023458  0.250493         0.999989  \n",
      "open                0.026770  0.253709         0.999983  \n",
      "quoteVolume         1.000000  0.917269         0.026176  \n",
      "volume              0.917269  1.000000         0.253152  \n",
      "weightedAverage     0.026176  0.253152         1.000000  \n"
     ]
    }
   ],
   "source": [
    "#CONDUCT PEARSON CORRELATION\n",
    "correlation_matrix = dataset.corr()\n",
    "print(correlation_matrix)"
   ]
  },
  {
   "cell_type": "code",
   "execution_count": 4,
   "id": "regular-wrist",
   "metadata": {},
   "outputs": [
    {
     "data": {
      "text/plain": [
       "<AxesSubplot:>"
      ]
     },
     "execution_count": 4,
     "metadata": {},
     "output_type": "execute_result"
    },
    {
     "data": {
      "image/png": "[encoded data removed]",
      "text/plain": [
       "<Figure size 432x288 with 2 Axes>"
      ]
     },
     "metadata": {
      "needs_background": "light"
     },
     "output_type": "display_data"
    }
   ],
   "source": [
    "# plot the heatmap\n",
    "sns.heatmap(correlation_matrix, xticklabels=correlation_matrix.columns, yticklabels=correlation_matrix.columns)"
   ]
  },
  {
   "cell_type": "code",
   "execution_count": 5,
   "id": "multiple-angle",
   "metadata": {},
   "outputs": [
    {
     "name": "stdout",
     "output_type": "stream",
     "text": [
      "              high          low         open  weightedAverage        close\n",
      "0       455.544267   454.056224   454.097939       454.363902   454.914024\n",
      "1       454.678762   453.038198   454.678762       453.824655   453.433040\n",
      "2       454.500000   452.669440   453.671881       453.522696   452.669440\n",
      "3       453.007440   451.132360   452.499455       452.100379   451.535630\n",
      "4       453.000000   451.939406   451.939406       452.714873   452.634457\n",
      "...            ...          ...          ...              ...          ...\n",
      "43065  2089.056150  2071.007976  2088.562283      2078.473465  2072.103614\n",
      "43066  2075.983447  2065.557520  2072.103614      2070.322271  2072.088014\n",
      "43067  2077.875883  2072.175936  2073.086013      2075.345956  2077.117034\n",
      "43068  2077.886044  2069.025950  2077.207710      2073.124147  2072.138063\n",
      "43069  2076.864882  2071.103559  2072.761413      2073.894453  2076.864882\n",
      "\n",
      "[43070 rows x 5 columns]\n"
     ]
    }
   ],
   "source": [
    "#SELECT FEATURES AND TARGET\n",
    "data = dataset[[\"high\",\"low\",\"open\",\"weightedAverage\", \"close\"]]\n",
    "print(data)"
   ]
  },
  {
   "cell_type": "code",
   "execution_count": 6,
   "id": "impossible-barbados",
   "metadata": {},
   "outputs": [],
   "source": [
    "#SCALE DATA \n",
    "scaler = MinMaxScaler(feature_range=(0, 1))\n",
    "data = scaler.fit_transform(data)"
   ]
  },
  {
   "cell_type": "code",
   "execution_count": 7,
   "id": "brilliant-telephone",
   "metadata": {},
   "outputs": [],
   "source": [
    "#DEFINE MODEL CREATION METHOD. ENABLES EASY HYPER PARAM TUNING\n",
    "def build_model(inputs, neurons, activ_func, dropout, loss, optimizer):\n",
    "    \"\"\"\n",
    "    inputs: input data as numpy array\n",
    "    output_size: number of predictions per input sample\n",
    "    neurons: number of neurons/ units in the LSTM layer\n",
    "    active_func: Activation function to be used in LSTM layers and Dense layer\n",
    "    dropout: dropout ration, default is 0.25\n",
    "    loss: loss function for calculating the gradient\n",
    "    optimizer: type of optimizer to backpropagate the gradient\n",
    "    \n",
    "    This function will build 3 layered RNN model with LSTM cells with dripouts after each LSTM layer \n",
    "    and finally a dense layer to produce the output using keras' sequential model.\n",
    "    Return: Keras sequential model and model summary\n",
    "    \"\"\"\n",
    "    \n",
    "    model = models.Sequential()\n",
    "    model.add(layers.LSTM(neurons, return_sequences=False, input_shape=(inputs.shape[1], inputs.shape[2]), activation=activ_func))\n",
    "    model.add(layers.Dropout(dropout))\n",
    "    model.add(layers.Dense(units=inputs.shape[2]))\n",
    "    #model.add(layers.Dense(units=1))\n",
    "    model.add(layers.Activation(activ_func))\n",
    "    model.compile(loss=loss, optimizer=optimizer, metrics=['mae'])\n",
    "    model.summary()\n",
    "    return model"
   ]
  },
  {
   "cell_type": "code",
   "execution_count": 8,
   "id": "requested-qatar",
   "metadata": {},
   "outputs": [],
   "source": [
    "def split_data(training_split, data):\n",
    "    # split into train and test sets\n",
    "    train_size = int(len(data) * training_split)\n",
    "    test_size = len(data) - train_size\n",
    "    train, test = data[0:train_size,:], data[train_size:len(data),:]\n",
    "    return (train, test)"
   ]
  },
  {
   "cell_type": "code",
   "execution_count": 9,
   "id": "opponent-result",
   "metadata": {},
   "outputs": [],
   "source": [
    "def split_sequences_multivariate_output(sequences, look_back, look_forward):\n",
    "    x, y = list(), list()\n",
    "    for i in range(len(sequences)):\n",
    "        # end index of lookback window\n",
    "        lookback_end_index = i + look_back\n",
    "        lookforward_end_index = i + look_back + look_forward\n",
    "        # exit if we are beyond the dataset\n",
    "        if lookforward_end_index > len(sequences)-1:\n",
    "            break\n",
    "        # gather input and output parts of the pattern. input is lookback window of data, output is next step of data\n",
    "        seq_x, seq_y = sequences[i:lookback_end_index, :], sequences[lookback_end_index:lookforward_end_index, :]\n",
    "        x.append(seq_x)\n",
    "        y.append(seq_y)\n",
    "            \n",
    "    return np.array(x), np.array(y)"
   ]
  },
  {
   "cell_type": "code",
   "execution_count": 10,
   "id": "delayed-apollo",
   "metadata": {},
   "outputs": [],
   "source": [
    "#INIT HYPER PARAMS\n",
    "neurons = 512\n",
    "activation_function = 'tanh'\n",
    "loss = 'mse'\n",
    "optimizer=\"adam\"\n",
    "dropout = 0.2\n",
    "batch_size = 12\n",
    "epochs = 150\n",
    "#epochs = 1\n",
    "training_split = 0.99\n",
    "look_back = 20\n",
    "look_forward = 1"
   ]
  },
  {
   "cell_type": "code",
   "execution_count": 11,
   "id": "ongoing-antigua",
   "metadata": {},
   "outputs": [],
   "source": [
    "#SPLIT DATA FOR TRAINING\n",
    "train_data, test_data = split_data(training_split, data)"
   ]
  },
  {
   "cell_type": "code",
   "execution_count": 12,
   "id": "potential-marsh",
   "metadata": {},
   "outputs": [
    {
     "name": "stdout",
     "output_type": "stream",
     "text": [
      "training features shape == (42618, 20, 5).\n",
      "training targets shape == (42618, 1, 5).\n",
      "testing features shape == (410, 20, 5).\n",
      "testing features shape == (410, 1, 5).\n",
      "X_TRAIN\n",
      "[[[0.01129529 0.01174612 0.01098914 0.01106678 0.01139118]\n",
      "  [0.01079006 0.0111495  0.0113287  0.01075192 0.01052513]\n",
      "  [0.01068571 0.01093338 0.01074005 0.01057561 0.01007858]\n",
      "  ...\n",
      "  [0.01157216 0.01289617 0.01211199 0.01203291 0.01203711]\n",
      "  [0.01157241 0.01256473 0.01178137 0.01202523 0.01203736]\n",
      "  [0.01184735 0.01275722 0.0123876  0.01227317 0.0119784 ]]\n",
      "\n",
      " [[0.01079006 0.0111495  0.0113287  0.01075192 0.01052513]\n",
      "  [0.01068571 0.01093338 0.01074005 0.01057561 0.01007858]\n",
      "  [0.00981445 0.01003257 0.01005462 0.00974514 0.00941555]\n",
      "  ...\n",
      "  [0.01157241 0.01256473 0.01178137 0.01202523 0.01203736]\n",
      "  [0.01184735 0.01275722 0.0123876  0.01227317 0.0119784 ]\n",
      "  [0.01151345 0.01271817 0.01205319 0.01191385 0.0118595 ]]\n",
      "\n",
      " [[0.01068571 0.01093338 0.01074005 0.01057561 0.01007858]\n",
      "  [0.00981445 0.01003257 0.01005462 0.00974514 0.00941555]\n",
      "  [0.00981011 0.01050554 0.0097272  0.01010394 0.01005812]\n",
      "  ...\n",
      "  [0.01184735 0.01275722 0.0123876  0.01227317 0.0119784 ]\n",
      "  [0.01151345 0.01271817 0.01205319 0.01191385 0.0118595 ]\n",
      "  [0.01132193 0.0120128  0.01186138 0.01161379 0.01115565]]\n",
      "\n",
      " ...\n",
      "\n",
      " [[0.97019615 0.96985308 0.97219964 0.96877219 0.97134777]\n",
      "  [0.97189081 0.97273081 0.97068888 0.97124091 0.97315889]\n",
      "  [0.97441664 0.9743963  0.97297102 0.97250106 0.97605889]\n",
      "  ...\n",
      "  [0.9718444  0.97400121 0.97324809 0.9707678  0.9730055 ]\n",
      "  [0.97334351 0.97589553 0.97296598 0.97195617 0.97436199]\n",
      "  [0.97380423 0.97661445 0.97395754 0.97355193 0.97575889]]\n",
      "\n",
      " [[0.97189081 0.97273081 0.97068888 0.97124091 0.97315889]\n",
      "  [0.97441664 0.9743963  0.97297102 0.97250106 0.97605889]\n",
      "  [0.97373835 0.97699602 0.97531991 0.97332301 0.9752852 ]\n",
      "  ...\n",
      "  [0.97334351 0.97589553 0.97296598 0.97195617 0.97436199]\n",
      "  [0.97380423 0.97661445 0.97395754 0.97355193 0.97575889]\n",
      "  [0.97493859 0.97824278 0.97557031 0.97468433 0.97648845]]\n",
      "\n",
      " [[0.97441664 0.9743963  0.97297102 0.97250106 0.97605889]\n",
      "  [0.97373835 0.97699602 0.97531991 0.97332301 0.9752852 ]\n",
      "  [0.97548014 0.97775291 0.97461206 0.97508752 0.97677727]\n",
      "  ...\n",
      "  [0.97380423 0.97661445 0.97395754 0.97355193 0.97575889]\n",
      "  [0.97493859 0.97824278 0.97557031 0.97468433 0.97648845]\n",
      "  [0.97633512 0.97894916 0.97694932 0.97602447 0.97608301]]]\n",
      "Y_TRAIN\n",
      "[[[0.01151345 0.01271817 0.01205319 0.01191385 0.0118595 ]]\n",
      "\n",
      " [[0.01132193 0.0120128  0.01186138 0.01161379 0.01115565]]\n",
      "\n",
      " [[0.01090405 0.01177057 0.01109361 0.01102964 0.01116337]]\n",
      "\n",
      " ...\n",
      "\n",
      " [[0.97493859 0.97824278 0.97557031 0.97468433 0.97648845]]\n",
      "\n",
      " [[0.97633512 0.97894916 0.97694932 0.97602447 0.97608301]]\n",
      "\n",
      " [[0.97680806 0.97778346 0.97574385 0.97649229 0.97684214]]]\n"
     ]
    }
   ],
   "source": [
    "#SHAPE DATA FOR LSTM INPUT\n",
    "x_train, y_train = split_sequences_multivariate_output(train_data, look_back, look_forward)\n",
    "x_test, y_test = split_sequences_multivariate_output(test_data, look_back, look_forward)\n",
    "\n",
    "#PRINT DATA SHAPE\n",
    "print('training features shape == {}.'.format(x_train.shape))\n",
    "print('training targets shape == {}.'.format(y_train.shape))\n",
    "print('testing features shape == {}.'.format(x_test.shape))\n",
    "print('testing features shape == {}.'.format(y_test.shape))\n",
    "\n",
    "print(\"X_TRAIN\")\n",
    "print(x_train)\n",
    "print(\"Y_TRAIN\")\n",
    "print(y_train)"
   ]
  },
  {
   "cell_type": "code",
   "execution_count": 13,
   "id": "worst-wednesday",
   "metadata": {},
   "outputs": [],
   "source": [
    "#ONLY NEEDS TO HAPPEN IF LOOK FORWARD IS 1\n",
    "#y_train =  np.reshape(y_train, (y_train.shape[0], 1, y_train.shape[1]))\n",
    "#y_test =  np.reshape(y_test, (y_test.shape[0], 1, y_test.shape[1]))"
   ]
  },
  {
   "cell_type": "code",
   "execution_count": 14,
   "id": "dominant-change",
   "metadata": {},
   "outputs": [
    {
     "name": "stdout",
     "output_type": "stream",
     "text": [
      "training features shape == (42618, 20, 5).\n",
      "training targets shape == (42618, 1, 5).\n",
      "testing features shape == (410, 20, 5).\n",
      "testing features shape == (410, 1, 5).\n",
      "X_TRAIN\n",
      "[[[0.01129529 0.01174612 0.01098914 0.01106678 0.01139118]\n",
      "  [0.01079006 0.0111495  0.0113287  0.01075192 0.01052513]\n",
      "  [0.01068571 0.01093338 0.01074005 0.01057561 0.01007858]\n",
      "  ...\n",
      "  [0.01157216 0.01289617 0.01211199 0.01203291 0.01203711]\n",
      "  [0.01157241 0.01256473 0.01178137 0.01202523 0.01203736]\n",
      "  [0.01184735 0.01275722 0.0123876  0.01227317 0.0119784 ]]\n",
      "\n",
      " [[0.01079006 0.0111495  0.0113287  0.01075192 0.01052513]\n",
      "  [0.01068571 0.01093338 0.01074005 0.01057561 0.01007858]\n",
      "  [0.00981445 0.01003257 0.01005462 0.00974514 0.00941555]\n",
      "  ...\n",
      "  [0.01157241 0.01256473 0.01178137 0.01202523 0.01203736]\n",
      "  [0.01184735 0.01275722 0.0123876  0.01227317 0.0119784 ]\n",
      "  [0.01151345 0.01271817 0.01205319 0.01191385 0.0118595 ]]\n",
      "\n",
      " [[0.01068571 0.01093338 0.01074005 0.01057561 0.01007858]\n",
      "  [0.00981445 0.01003257 0.01005462 0.00974514 0.00941555]\n",
      "  [0.00981011 0.01050554 0.0097272  0.01010394 0.01005812]\n",
      "  ...\n",
      "  [0.01184735 0.01275722 0.0123876  0.01227317 0.0119784 ]\n",
      "  [0.01151345 0.01271817 0.01205319 0.01191385 0.0118595 ]\n",
      "  [0.01132193 0.0120128  0.01186138 0.01161379 0.01115565]]\n",
      "\n",
      " ...\n",
      "\n",
      " [[0.97019615 0.96985308 0.97219964 0.96877219 0.97134777]\n",
      "  [0.97189081 0.97273081 0.97068888 0.97124091 0.97315889]\n",
      "  [0.97441664 0.9743963  0.97297102 0.97250106 0.97605889]\n",
      "  ...\n",
      "  [0.9718444  0.97400121 0.97324809 0.9707678  0.9730055 ]\n",
      "  [0.97334351 0.97589553 0.97296598 0.97195617 0.97436199]\n",
      "  [0.97380423 0.97661445 0.97395754 0.97355193 0.97575889]]\n",
      "\n",
      " [[0.97189081 0.97273081 0.97068888 0.97124091 0.97315889]\n",
      "  [0.97441664 0.9743963  0.97297102 0.97250106 0.97605889]\n",
      "  [0.97373835 0.97699602 0.97531991 0.97332301 0.9752852 ]\n",
      "  ...\n",
      "  [0.97334351 0.97589553 0.97296598 0.97195617 0.97436199]\n",
      "  [0.97380423 0.97661445 0.97395754 0.97355193 0.97575889]\n",
      "  [0.97493859 0.97824278 0.97557031 0.97468433 0.97648845]]\n",
      "\n",
      " [[0.97441664 0.9743963  0.97297102 0.97250106 0.97605889]\n",
      "  [0.97373835 0.97699602 0.97531991 0.97332301 0.9752852 ]\n",
      "  [0.97548014 0.97775291 0.97461206 0.97508752 0.97677727]\n",
      "  ...\n",
      "  [0.97380423 0.97661445 0.97395754 0.97355193 0.97575889]\n",
      "  [0.97493859 0.97824278 0.97557031 0.97468433 0.97648845]\n",
      "  [0.97633512 0.97894916 0.97694932 0.97602447 0.97608301]]]\n",
      "Y_TRAIN\n",
      "[[[0.01151345 0.01271817 0.01205319 0.01191385 0.0118595 ]]\n",
      "\n",
      " [[0.01132193 0.0120128  0.01186138 0.01161379 0.01115565]]\n",
      "\n",
      " [[0.01090405 0.01177057 0.01109361 0.01102964 0.01116337]]\n",
      "\n",
      " ...\n",
      "\n",
      " [[0.97493859 0.97824278 0.97557031 0.97468433 0.97648845]]\n",
      "\n",
      " [[0.97633512 0.97894916 0.97694932 0.97602447 0.97608301]]\n",
      "\n",
      " [[0.97680806 0.97778346 0.97574385 0.97649229 0.97684214]]]\n"
     ]
    }
   ],
   "source": [
    "#PRINT DATA SHAPE\n",
    "print('training features shape == {}.'.format(x_train.shape))\n",
    "print('training targets shape == {}.'.format(y_train.shape))\n",
    "print('testing features shape == {}.'.format(x_test.shape))\n",
    "print('testing features shape == {}.'.format(y_test.shape))\n",
    "\n",
    "print(\"X_TRAIN\")\n",
    "print(x_train)\n",
    "print(\"Y_TRAIN\")\n",
    "print(y_train)"
   ]
  },
  {
   "cell_type": "code",
   "execution_count": null,
   "id": "injured-initial",
   "metadata": {},
   "outputs": [
    {
     "name": "stdout",
     "output_type": "stream",
     "text": [
      "Model: \"sequential\"\n",
      "_________________________________________________________________\n",
      "Layer (type)                 Output Shape              Param #   \n",
      "=================================================================\n",
      "lstm (LSTM)                  (None, 512)               1060864   \n",
      "_________________________________________________________________\n",
      "dropout (Dropout)            (None, 512)               0         \n",
      "_________________________________________________________________\n",
      "dense (Dense)                (None, 5)                 2565      \n",
      "_________________________________________________________________\n",
      "activation (Activation)      (None, 5)                 0         \n",
      "=================================================================\n",
      "Total params: 1,063,429\n",
      "Trainable params: 1,063,429\n",
      "Non-trainable params: 0\n",
      "_________________________________________________________________\n",
      "Epoch 1/150\n",
      "3552/3552 [==============================] - 23s 6ms/step - loss: 1.1752e-04 - mae: 0.0068 - val_loss: 7.0336e-04 - val_mae: 0.0252\n",
      "Epoch 2/150\n",
      "3552/3552 [==============================] - 21s 6ms/step - loss: 0.0262 - mae: 0.0711 - val_loss: 0.0012 - val_mae: 0.0339\n",
      "Epoch 3/150\n",
      "3552/3552 [==============================] - 21s 6ms/step - loss: 0.0113 - mae: 0.0294 - val_loss: 0.0012 - val_mae: 0.0331\n",
      "Epoch 4/150\n",
      "3552/3552 [==============================] - 22s 6ms/step - loss: 0.0213 - mae: 0.0496 - val_loss: 8.6071e-04 - val_mae: 0.0280\n",
      "Epoch 5/150\n",
      "3552/3552 [==============================] - 21s 6ms/step - loss: 0.0242 - mae: 0.0625 - val_loss: 0.0011 - val_mae: 0.0321\n",
      "Epoch 6/150\n",
      "3552/3552 [==============================] - 21s 6ms/step - loss: 0.0107 - mae: 0.0336 - val_loss: 9.1079e-04 - val_mae: 0.0290\n",
      "Epoch 7/150\n",
      "3552/3552 [==============================] - 25s 7ms/step - loss: 0.0101 - mae: 0.0357 - val_loss: 7.6505e-04 - val_mae: 0.0263\n",
      "Epoch 8/150\n",
      "3552/3552 [==============================] - 21s 6ms/step - loss: 0.0163 - mae: 0.0434 - val_loss: 7.9644e-04 - val_mae: 0.0269\n",
      "Epoch 9/150\n",
      "3552/3552 [==============================] - 20s 6ms/step - loss: 0.0029 - mae: 0.0307 - val_loss: 8.2437e-04 - val_mae: 0.0274\n",
      "Epoch 10/150\n",
      "3552/3552 [==============================] - 21s 6ms/step - loss: 0.0060 - mae: 0.0345 - val_loss: 8.5521e-04 - val_mae: 0.0280\n",
      "Epoch 11/150\n",
      "3552/3552 [==============================] - 24s 7ms/step - loss: 0.0033 - mae: 0.0253 - val_loss: 8.8742e-04 - val_mae: 0.0286\n",
      "Epoch 12/150\n",
      "3552/3552 [==============================] - 23s 7ms/step - loss: 0.0024 - mae: 0.0239 - val_loss: 9.2634e-04 - val_mae: 0.0293\n",
      "Epoch 13/150\n",
      "3552/3552 [==============================] - 21s 6ms/step - loss: 0.0028 - mae: 0.0273 - val_loss: 8.5988e-04 - val_mae: 0.0282\n",
      "Epoch 14/150\n",
      "3552/3552 [==============================] - 20s 6ms/step - loss: 0.0018 - mae: 0.0226 - val_loss: 8.3012e-04 - val_mae: 0.0276\n",
      "Epoch 15/150\n",
      "3552/3552 [==============================] - 23s 7ms/step - loss: 0.0016 - mae: 0.0206 - val_loss: 7.1471e-04 - val_mae: 0.0255\n",
      "Epoch 16/150\n",
      "3552/3552 [==============================] - 21s 6ms/step - loss: 0.0012 - mae: 0.0194 - val_loss: 3.4384e-04 - val_mae: 0.0170\n",
      "Epoch 17/150\n",
      "3552/3552 [==============================] - 22s 6ms/step - loss: 8.7573e-04 - mae: 0.0171 - val_loss: 8.9014e-04 - val_mae: 0.0287\n",
      "Epoch 18/150\n",
      "3552/3552 [==============================] - 21s 6ms/step - loss: 7.5555e-04 - mae: 0.0165 - val_loss: 6.9026e-04 - val_mae: 0.0251\n",
      "Epoch 19/150\n",
      "3552/3552 [==============================] - 21s 6ms/step - loss: 6.1947e-04 - mae: 0.0152 - val_loss: 6.9498e-04 - val_mae: 0.0252\n",
      "Epoch 20/150\n",
      "3552/3552 [==============================] - 18s 5ms/step - loss: 5.0557e-04 - mae: 0.0142 - val_loss: 7.0310e-04 - val_mae: 0.0254\n",
      "Epoch 21/150\n",
      "3552/3552 [==============================] - 18s 5ms/step - loss: 4.8353e-04 - mae: 0.0139 - val_loss: 5.4409e-04 - val_mae: 0.0221\n",
      "Epoch 22/150\n",
      "3552/3552 [==============================] - 18s 5ms/step - loss: 3.1608e-04 - mae: 0.0123 - val_loss: 7.1389e-05 - val_mae: 0.0069\n",
      "Epoch 23/150\n",
      "3552/3552 [==============================] - 18s 5ms/step - loss: 4.6592e-04 - mae: 0.0120 - val_loss: 5.7962e-04 - val_mae: 0.0228\n",
      "Epoch 24/150\n",
      "3552/3552 [==============================] - 18s 5ms/step - loss: 2.8419e-04 - mae: 0.0115 - val_loss: 5.1529e-04 - val_mae: 0.0215\n",
      "Epoch 25/150\n",
      "3552/3552 [==============================] - 19s 5ms/step - loss: 2.8560e-04 - mae: 0.0114 - val_loss: 5.5663e-04 - val_mae: 0.0224\n",
      "Epoch 26/150\n",
      "3552/3552 [==============================] - 18s 5ms/step - loss: 2.3189e-04 - mae: 0.0108 - val_loss: 7.5329e-04 - val_mae: 0.0263\n",
      "Epoch 27/150\n",
      "3552/3552 [==============================] - 18s 5ms/step - loss: 2.3067e-04 - mae: 0.0108 - val_loss: 6.3691e-04 - val_mae: 0.0240\n",
      "Epoch 28/150\n",
      "3552/3552 [==============================] - 18s 5ms/step - loss: 2.0071e-04 - mae: 0.0103 - val_loss: 5.4659e-04 - val_mae: 0.0222\n",
      "Epoch 29/150\n",
      "3552/3552 [==============================] - 18s 5ms/step - loss: 1.8842e-04 - mae: 0.0101 - val_loss: 5.1342e-04 - val_mae: 0.0215\n",
      "Epoch 30/150\n",
      "3552/3552 [==============================] - 18s 5ms/step - loss: 2.0020e-04 - mae: 0.0101 - val_loss: 2.8468e-04 - val_mae: 0.0154\n",
      "Epoch 31/150\n",
      "3552/3552 [==============================] - 18s 5ms/step - loss: 1.9119e-04 - mae: 0.0099 - val_loss: 5.2964e-04 - val_mae: 0.0218\n",
      "Epoch 32/150\n",
      "3481/3552 [============================>.] - ETA: 0s - loss: 1.8907e-04 - mae: 0.0098"
     ]
    }
   ],
   "source": [
    "# CLEAN UP MEMORY\n",
    "gc.collect()\n",
    "# random seed for reproducibility\n",
    "np.random.seed(404)\n",
    "# initialise model architecture\n",
    "model = build_model(x_train, neurons=neurons, activ_func=activation_function, dropout=dropout, loss=loss, optimizer=optimizer)\n",
    "# train model on data\n",
    "history = model.fit(x_train, y_train, epochs=epochs, batch_size=batch_size, verbose=1, validation_data=(x_test, y_test), shuffle=False)"
   ]
  },
  {
   "cell_type": "code",
   "execution_count": null,
   "id": "choice-contrast",
   "metadata": {},
   "outputs": [],
   "source": [
    "#PLOT LOSS\n",
    "plt.plot(history.history['loss'])\n",
    "plt.plot(history.history['val_loss'])\n",
    "plt.title('model loss')\n",
    "plt.ylabel('loss')\n",
    "plt.xlabel('epoch')\n",
    "plt.legend(['train', 'val'], loc='upper left')\n",
    "plt.show()"
   ]
  },
  {
   "cell_type": "code",
   "execution_count": null,
   "id": "lyric-diploma",
   "metadata": {},
   "outputs": [],
   "source": [
    "#PLOT LOSS\n",
    "plt.plot(history.history['mae'])\n",
    "plt.plot(history.history['val_mae'])\n",
    "plt.title('model mae')\n",
    "plt.ylabel('mae')\n",
    "plt.xlabel('epoch')\n",
    "plt.legend(['train', 'val'], loc='upper left')\n",
    "plt.show()"
   ]
  },
  {
   "cell_type": "code",
   "execution_count": null,
   "id": "international-stockholm",
   "metadata": {},
   "outputs": [],
   "source": [
    "#PERFORM PREDICTIONS\n",
    "train_predict = model.predict(x_train)\n",
    "test_predict = model.predict(x_test)\n",
    "print(train_predict.shape)\n",
    "print(test_predict.shape)"
   ]
  },
  {
   "cell_type": "code",
   "execution_count": null,
   "id": "powerful-replica",
   "metadata": {},
   "outputs": [],
   "source": [
    "test_predict_shaped = scaler.inverse_transform(np.array(test_predict))\n",
    "train_predict_shaped = scaler.inverse_transform(np.array(train_predict))\n",
    "test_predict_shaped = test_predict_shaped[:,4:5]\n",
    "train_predict_shaped = train_predict_shaped[:,4:5]\n",
    "print(test_predict_shaped.shape)\n",
    "print(train_predict_shaped.shape)"
   ]
  },
  {
   "cell_type": "code",
   "execution_count": null,
   "id": "greek-veteran",
   "metadata": {},
   "outputs": [],
   "source": [
    "train_mse = mean_squared_error(y_train[:,0,4], train_predict[:,4])\n",
    "test_mse = mean_squared_error(y_test[:,0,4], test_predict[:,4])\n",
    "# calculate mean squared error\n",
    "print('Train Score: %.2f RMSE' % (train_mse))\n",
    "print('Test Score: %.2f RMSE' % (test_mse))\n",
    "\n",
    "# calculate root mean squared error\n",
    "print('Train Score: %.2f RMSE' % (math.sqrt(train_mse)))\n",
    "print('Test Score: %.2f RMSE' % (math.sqrt(test_mse)))\n",
    "\n",
    "# calculate root mean abs error\n",
    "print('Train Score: %.2f MAE' % (mean_absolute_error(y_train[:,0,4], train_predict[:,4])))\n",
    "print('Test Score: %.2f MAE' % (mean_absolute_error(y_test[:,0,4], test_predict[:,4])))\n",
    "\n",
    "# calculate root mean squared error\n",
    "print('Train Score: %.2f MAPE' % (mean_absolute_percentage_error(y_train[:,0,4], train_predict[:,4])))\n",
    "print('Test Score: %.2f MAPE' % (mean_absolute_percentage_error(y_test[:,0,4], test_predict[:,4])))"
   ]
  },
  {
   "cell_type": "code",
   "execution_count": null,
   "id": "apart-twins",
   "metadata": {},
   "outputs": [],
   "source": [
    "\n",
    "baseData = scaler.inverse_transform(data)[:, 4:5]\n",
    "# initialize to length of base data\n",
    "trainPredictPlot = np.empty_like(baseData)\n",
    "# set all elements to nan\n",
    "trainPredictPlot[:, :] = np.nan\n",
    "# shift train predictions by window length for plotting\n",
    "trainPredictPlot[look_back:len(train_predict_shaped)+look_back, :] = train_predict_shaped\n",
    "# initialize to length of base data\n",
    "testPredictPlot = np.empty_like(baseData)\n",
    "#set all elements to nan\n",
    "testPredictPlot[:, :] = np.nan\n",
    "#shift by length of training predictions plus \n",
    "testPredictPlot[len(train_predict_shaped)+(look_back*2)+1:len(baseData)-1, :] = test_predict_shaped[0:12901, :]\n",
    "# plot baseline and predictions\n",
    "plt.figure(figsize=(15,15))\n",
    "plt.plot(baseData, '-', color='k', label='Close')\n",
    "plt.plot(trainPredictPlot, '-', color='g', label='Train Predicted Close')\n",
    "plt.plot(testPredictPlot, '-', color='r', label='Test Predicted Close')\n",
    "plt.legend(fontsize=20)\n",
    "\n",
    "plt.show()"
   ]
  },
  {
   "cell_type": "code",
   "execution_count": null,
   "id": "final-feelings",
   "metadata": {},
   "outputs": [],
   "source": [
    "baseTestData = scaler.inverse_transform(test_data)[:, 4:5]\n",
    "testPredictPlot2 = np.empty_like(baseTestData)\n",
    "testPredictPlot2[:, :] = np.nan\n",
    "testPredictPlot2[look_back:len(train_predict_shaped)+look_back, :] = test_predict_shaped\n",
    "# plot baseline and predictions\n",
    "plt.figure(figsize=(15,15))\n",
    "plt.plot(baseTestData, '-', color='k', label='Close')\n",
    "plt.plot(testPredictPlot2, '-', color='r', label='Test Predicted Close')\n",
    "plt.legend(fontsize=20)\n",
    "\n",
    "plt.show()"
   ]
  },
  {
   "cell_type": "code",
   "execution_count": null,
   "id": "spoken-chosen",
   "metadata": {},
   "outputs": [],
   "source": [
    "model_json = model.to_json()\n",
    "\n",
    "with open(\"C:\\ProgramData\\ETH\\Model\\model.json\", \"w\") as json_file:\n",
    "    json_file.write(model_json)\n",
    "\n",
    "model.save_weights(\"C:\\ProgramData\\ETH\\Model\\model.h5\")"
   ]
  }
 ],
 "metadata": {
  "kernelspec": {
   "display_name": "Python 3",
   "language": "python",
   "name": "python3"
  },
  "language_info": {
   "codemirror_mode": {
    "name": "ipython",
    "version": 3
   },
   "file_extension": ".py",
   "mimetype": "text/x-python",
   "name": "python",
   "nbconvert_exporter": "python",
   "pygments_lexer": "ipython3",
   "version": "3.8.5"
  }
 },
 "nbformat": 4,
 "nbformat_minor": 5
}
