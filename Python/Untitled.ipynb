{
 "cells": [
  {
   "cell_type": "code",
   "execution_count": 69,
   "id": "absent-alarm",
   "metadata": {},
   "outputs": [],
   "source": [
    "import gc\n",
    "import datetime\n",
    "import pandas as pd\n",
    "import numpy as np\n",
    "import matplotlib.pyplot as plt\n",
    "import seaborn as sns\n",
    "from sklearn.svm import SVC\n",
    "from sklearn.feature_selection import RFE\n",
    "from sklearn.preprocessing import MinMaxScaler\n",
    "from sklearn.metrics import mean_squared_error\n",
    "import math"
   ]
  },
  {
   "cell_type": "code",
   "execution_count": 2,
   "id": "dimensional-passage",
   "metadata": {},
   "outputs": [],
   "source": [
    "import tensorflow as tf\n",
    "from tensorflow import keras\n",
    "\n",
    "from tensorflow.keras import models\n",
    "from tensorflow.keras import layers"
   ]
  },
  {
   "cell_type": "code",
   "execution_count": 3,
   "id": "developing-circular",
   "metadata": {},
   "outputs": [
    {
     "name": "stdout",
     "output_type": "stream",
     "text": [
      "True\n",
      "[PhysicalDevice(name='/physical_device:GPU:0', device_type='GPU')]\n"
     ]
    },
    {
     "data": {
      "text/plain": [
       "22"
      ]
     },
     "execution_count": 3,
     "metadata": {},
     "output_type": "execute_result"
    }
   ],
   "source": [
    "print(tf.test.is_built_with_cuda())\n",
    "print(tf.config.list_physical_devices('GPU')) \n",
    "\n",
    "# CLEAN UP MEMORY\n",
    "gc.collect()"
   ]
  },
  {
   "cell_type": "code",
   "execution_count": 4,
   "id": "about-dependence",
   "metadata": {},
   "outputs": [],
   "source": [
    "#READ DATA FROM FILE\n",
    "dataset=pd.read_csv(\"C:/ProgramData/ETH/TrainingData/training.csv\", sep=',',header=0)"
   ]
  },
  {
   "cell_type": "code",
   "execution_count": 5,
   "id": "purple-object",
   "metadata": {},
   "outputs": [
    {
     "name": "stdout",
     "output_type": "stream",
     "text": [
      "             close        date        high         low        open  \\\n",
      "0       515.609375  1527552000  515.609375  512.633685  512.633685   \n",
      "1       514.018489  1527552300  514.832422  513.291775  513.291775   \n",
      "2       514.758432  1527552600  514.758432  514.290853  514.546926   \n",
      "3       513.794384  1527552900  515.055799  513.794384  514.042601   \n",
      "4       515.085181  1527553200  516.370237  515.085181  515.457029   \n",
      "...            ...         ...         ...         ...         ...   \n",
      "169678  153.050617  1587010800  153.050617  152.854924  152.854924   \n",
      "169679  152.752155  1587011100  153.006762  152.752155  153.006762   \n",
      "169680  152.439027  1587011400  152.821772  152.439027  152.744516   \n",
      "169681  152.565608  1587011700  152.619371  152.429768  152.429768   \n",
      "169682  152.619000  1587012000  152.619000  152.467567  152.493479   \n",
      "\n",
      "        quoteVolume        volume  weightedAverage  \n",
      "0         93.446187  48034.930402       514.038418  \n",
      "1          1.658992    854.079129       514.818062  \n",
      "2         14.711032   7570.374609       514.605286  \n",
      "3          1.965891   1010.844766       514.191683  \n",
      "4         35.275120  18187.540877       515.591183  \n",
      "...             ...           ...              ...  \n",
      "169678    45.669403   6982.254289       152.886919  \n",
      "169679     6.905527   1056.130607       152.939893  \n",
      "169680    23.023469   3517.052755       152.759464  \n",
      "169681    24.788608   3783.001936       152.610503  \n",
      "169682    40.849875   6231.882089       152.555719  \n",
      "\n",
      "[169683 rows x 8 columns]\n"
     ]
    }
   ],
   "source": [
    "#PRINT DATA\n",
    "print(dataset)"
   ]
  },
  {
   "cell_type": "code",
   "execution_count": 6,
   "id": "bored-louisiana",
   "metadata": {},
   "outputs": [
    {
     "name": "stdout",
     "output_type": "stream",
     "text": [
      "                    close      date      high       low      open  \\\n",
      "close            1.000000 -0.508373  0.999990  0.999990  0.999984   \n",
      "date            -0.508373  1.000000 -0.508153 -0.508644 -0.508391   \n",
      "high             0.999990 -0.508153  1.000000  0.999979  0.999990   \n",
      "low              0.999990 -0.508644  0.999979  1.000000  0.999989   \n",
      "open             0.999984 -0.508391  0.999990  0.999989  1.000000   \n",
      "quoteVolume     -0.097158  0.265288 -0.095563 -0.098753 -0.096949   \n",
      "volume           0.013223  0.200600  0.014927  0.011517  0.013439   \n",
      "weightedAverage  0.999995 -0.508401  0.999994  0.999994  0.999993   \n",
      "\n",
      "                 quoteVolume    volume  weightedAverage  \n",
      "close              -0.097158  0.013223         0.999995  \n",
      "date                0.265288  0.200600        -0.508401  \n",
      "high               -0.095563  0.014927         0.999994  \n",
      "low                -0.098753  0.011517         0.999994  \n",
      "open               -0.096949  0.013439         0.999993  \n",
      "quoteVolume         1.000000  0.931455        -0.097192  \n",
      "volume              0.931455  1.000000         0.013193  \n",
      "weightedAverage    -0.097192  0.013193         1.000000  \n"
     ]
    }
   ],
   "source": [
    "#CONDUCT PEARSON CORRELATION\n",
    "correlation_matrix = dataset.corr()\n",
    "print(correlation_matrix)"
   ]
  },
  {
   "cell_type": "code",
   "execution_count": 7,
   "id": "regular-wrist",
   "metadata": {},
   "outputs": [
    {
     "data": {
      "text/plain": [
       "<AxesSubplot:>"
      ]
     },
     "execution_count": 7,
     "metadata": {},
     "output_type": "execute_result"
    },
    {
     "data": {
      "image/png": "[encoded data removed]",
      "text/plain": [
       "<Figure size 432x288 with 2 Axes>"
      ]
     },
     "metadata": {
      "needs_background": "light"
     },
     "output_type": "display_data"
    }
   ],
   "source": [
    "# plot the heatmap\n",
    "sns.heatmap(correlation_matrix, xticklabels=correlation_matrix.columns, yticklabels=correlation_matrix.columns)"
   ]
  },
  {
   "cell_type": "code",
   "execution_count": 19,
   "id": "multiple-angle",
   "metadata": {},
   "outputs": [
    {
     "name": "stdout",
     "output_type": "stream",
     "text": [
      "              high         low        open  weightedAverage       close\n",
      "0       515.609375  512.633685  512.633685       514.038418  515.609375\n",
      "1       514.832422  513.291775  513.291775       514.818062  514.018489\n",
      "2       514.758432  514.290853  514.546926       514.605286  514.758432\n",
      "3       515.055799  513.794384  514.042601       514.191683  513.794384\n",
      "4       516.370237  515.085181  515.457029       515.591183  515.085181\n",
      "...            ...         ...         ...              ...         ...\n",
      "169678  153.050617  152.854924  152.854924       152.886919  153.050617\n",
      "169679  153.006762  152.752155  153.006762       152.939893  152.752155\n",
      "169680  152.821772  152.439027  152.744516       152.759464  152.439027\n",
      "169681  152.619371  152.429768  152.429768       152.610503  152.565608\n",
      "169682  152.619000  152.467567  152.493479       152.555719  152.619000\n",
      "\n",
      "[169683 rows x 5 columns]\n"
     ]
    }
   ],
   "source": [
    "#SELECT FEATURES AND TAGET\n",
    "data = dataset[[\"high\",\"low\",\"open\",\"weightedAverage\", \"close\"]]\n",
    "#data = data.values\n",
    "#data = data.astype('float32')\n",
    "print(data)"
   ]
  },
  {
   "cell_type": "code",
   "execution_count": 20,
   "id": "impossible-barbados",
   "metadata": {},
   "outputs": [],
   "source": [
    "#SCALE DATA \n",
    "scaler = MinMaxScaler(feature_range=(0, 1))\n",
    "data = scaler.fit_transform(data)"
   ]
  },
  {
   "cell_type": "code",
   "execution_count": 56,
   "id": "brilliant-telephone",
   "metadata": {},
   "outputs": [],
   "source": [
    "#DEFINE MODEL CREATION METHOD. ENABLES EASY HYPER PARAM TUNING\n",
    "def build_model(inputs, neurons, activ_func=activation_function, dropout=dropout, loss=loss, optimizer=optimizer):\n",
    "    \"\"\"\n",
    "    inputs: input data as numpy array\n",
    "    output_size: number of predictions per input sample\n",
    "    neurons: number of neurons/ units in the LSTM layer\n",
    "    active_func: Activation function to be used in LSTM layers and Dense layer\n",
    "    dropout: dropout ration, default is 0.25\n",
    "    loss: loss function for calculating the gradient\n",
    "    optimizer: type of optimizer to backpropagate the gradient\n",
    "    \n",
    "    This function will build 3 layered RNN model with LSTM cells with dripouts after each LSTM layer \n",
    "    and finally a dense layer to produce the output using keras' sequential model.\n",
    "    Return: Keras sequential model and model summary\n",
    "    \"\"\"\n",
    "    \n",
    "    model = models.Sequential()\n",
    "    model.add(layers.LSTM(neurons, return_sequences=True, input_shape=(inputs.shape[1], inputs.shape[2]), activation=activ_func))\n",
    "    model.add(layers.Dropout(dropout))\n",
    "    model.add(layers.Dense(units=inputs.shape[2]))\n",
    "    #model.add(layers.Dense(units=1))\n",
    "    model.add(layers.Activation(activ_func))\n",
    "    model.compile(loss=loss, optimizer=optimizer, metrics=['mae'])\n",
    "    model.summary()\n",
    "    return model"
   ]
  },
  {
   "cell_type": "code",
   "execution_count": 22,
   "id": "requested-qatar",
   "metadata": {},
   "outputs": [],
   "source": [
    "def split_data(training_split, data):\n",
    "    # split into train and test sets\n",
    "    train_size = int(len(data) * training_split)\n",
    "    test_size = len(data) - train_size\n",
    "    train, test = data[0:train_size,:], data[train_size:len(data),:]\n",
    "    return (train, test)"
   ]
  },
  {
   "cell_type": "code",
   "execution_count": 49,
   "id": "opponent-result",
   "metadata": {},
   "outputs": [],
   "source": [
    "def split_sequences_multivariate_output(sequences, look_back):\n",
    "    x, y = list(), list()\n",
    "    for i in range(len(sequences)):\n",
    "        # find the end of this pattern\n",
    "        end_ix = i + look_back\n",
    "        # check if we are beyond the dataset\n",
    "        if end_ix > len(sequences)-1:\n",
    "            break\n",
    "        # gather input and output parts of the pattern; need to parameterize for different number of columns\n",
    "        seq_x, seq_y = sequences[i:end_ix, :], sequences[end_ix, :]\n",
    "        x.append(seq_x)\n",
    "        y.append(seq_y)\n",
    "            \n",
    "    return np.array(x), np.array(y)"
   ]
  },
  {
   "cell_type": "code",
   "execution_count": 88,
   "id": "delayed-apollo",
   "metadata": {},
   "outputs": [],
   "source": [
    "#INIT HYPER PARAMS\n",
    "neurons = 512\n",
    "activation_function = 'tanh'\n",
    "loss = 'mse'\n",
    "optimizer=\"adam\"\n",
    "dropout = 0.2\n",
    "batch_size = 12\n",
    "epochs = 53\n",
    "#epochs = 1\n",
    "training_split = 0.8\n",
    "look_back = 6"
   ]
  },
  {
   "cell_type": "code",
   "execution_count": 89,
   "id": "ongoing-antigua",
   "metadata": {},
   "outputs": [],
   "source": [
    "#SPLIT DATA FOR TRAINING\n",
    "train_data, test_data = split_data(training_split, data)"
   ]
  },
  {
   "cell_type": "code",
   "execution_count": 90,
   "id": "potential-marsh",
   "metadata": {},
   "outputs": [
    {
     "name": "stdout",
     "output_type": "stream",
     "text": [
      "training features shape == (135740, 6, 5).\n",
      "training targets shape == (135740, 5).\n",
      "testing features shape == (33931, 6, 5).\n",
      "testing features shape == (33931, 5).\n",
      "X_TRAIN\n",
      "[[[0.79381908 0.79306201 0.78975707 0.79399787 0.7947809 ]\n",
      "  [0.79239617 0.79427395 0.79096397 0.79543074 0.7918645 ]\n",
      "  [0.79226066 0.79611387 0.79326584 0.79503969 0.79322096]\n",
      "  [0.79280526 0.79519957 0.79234094 0.79427955 0.79145367]\n",
      "  [0.79521252 0.79757672 0.79493492 0.79685162 0.79381995]\n",
      "  [0.79286119 0.79658428 0.79326466 0.79522572 0.79382207]]\n",
      "\n",
      " [[0.79239617 0.79427395 0.79096397 0.79543074 0.7918645 ]\n",
      "  [0.79226066 0.79611387 0.79326584 0.79503969 0.79322096]\n",
      "  [0.79280526 0.79519957 0.79234094 0.79427955 0.79145367]\n",
      "  [0.79521252 0.79757672 0.79493492 0.79685162 0.79381995]\n",
      "  [0.79286119 0.79658428 0.79326466 0.79522572 0.79382207]\n",
      "  [0.79286119 0.79757885 0.79425509 0.79592379 0.79382207]]\n",
      "\n",
      " [[0.79226066 0.79611387 0.79326584 0.79503969 0.79322096]\n",
      "  [0.79280526 0.79519957 0.79234094 0.79427955 0.79145367]\n",
      "  [0.79521252 0.79757672 0.79493492 0.79685162 0.79381995]\n",
      "  [0.79286119 0.79658428 0.79326466 0.79522572 0.79382207]\n",
      "  [0.79286119 0.79757885 0.79425509 0.79592379 0.79382207]\n",
      "  [0.79873533 0.7961193  0.79280162 0.79959732 0.79886101]]\n",
      "\n",
      " ...\n",
      "\n",
      " [[0.1901219  0.19135995 0.19056434 0.1910621  0.1904913 ]\n",
      "  [0.19029133 0.19145502 0.19071762 0.19105888 0.19046963]\n",
      "  [0.19023454 0.19128333 0.19079163 0.19095992 0.19029873]\n",
      "  [0.18989023 0.19029421 0.19026943 0.1900076  0.18966021]\n",
      "  [0.18936133 0.18994142 0.18991721 0.18986178 0.18896295]\n",
      "  [0.1887688  0.18751337 0.18912931 0.18770675 0.18722551]]\n",
      "\n",
      " [[0.19029133 0.19145502 0.19071762 0.19105888 0.19046963]\n",
      "  [0.19023454 0.19128333 0.19079163 0.19095992 0.19029873]\n",
      "  [0.18989023 0.19029421 0.19026943 0.1900076  0.18966021]\n",
      "  [0.18936133 0.18994142 0.18991721 0.18986178 0.18896295]\n",
      "  [0.1887688  0.18751337 0.18912931 0.18770675 0.18722551]\n",
      "  [0.18710891 0.18600324 0.18766166 0.18619085 0.18574149]]\n",
      "\n",
      " [[0.19023454 0.19128333 0.19079163 0.19095992 0.19029873]\n",
      "  [0.18989023 0.19029421 0.19026943 0.1900076  0.18966021]\n",
      "  [0.18936133 0.18994142 0.18991721 0.18986178 0.18896295]\n",
      "  [0.1887688  0.18751337 0.18912931 0.18770675 0.18722551]\n",
      "  [0.18710891 0.18600324 0.18766166 0.18619085 0.18574149]\n",
      "  [0.18666049 0.18727875 0.18667598 0.18738845 0.18654393]]]\n",
      "Y_TRAIN\n",
      "[[0.79286119 0.79757885 0.79425509 0.79592379 0.79382207]\n",
      " [0.79873533 0.7961193  0.79280162 0.79959732 0.79886101]\n",
      " [0.80186006 0.80311818 0.79977133 0.80332673 0.80282978]\n",
      " ...\n",
      " [0.18710891 0.18600324 0.18766166 0.18619085 0.18574149]\n",
      " [0.18666049 0.18727875 0.18667598 0.18738845 0.18654393]\n",
      " [0.18660145 0.1872503  0.18672986 0.18717014 0.18665078]]\n"
     ]
    }
   ],
   "source": [
    "#SHAPE DATA FOR LSTM INPUT\n",
    "x_train, y_train = split_sequences_multivariate_output(train_data, look_back)\n",
    "x_test, y_test = split_sequences_multivariate_output(test_data, look_back)\n",
    "\n",
    "#PRINT DATA SHAPE\n",
    "print('training features shape == {}.'.format(x_train.shape))\n",
    "print('training targets shape == {}.'.format(y_train.shape))\n",
    "print('testing features shape == {}.'.format(x_test.shape))\n",
    "print('testing features shape == {}.'.format(y_test.shape))\n",
    "\n",
    "print(\"X_TRAIN\")\n",
    "print(x_train)\n",
    "print(\"Y_TRAIN\")\n",
    "print(y_train)"
   ]
  },
  {
   "cell_type": "code",
   "execution_count": 91,
   "id": "worst-wednesday",
   "metadata": {},
   "outputs": [],
   "source": [
    "y_train =  np.reshape(y_train, (y_train.shape[0], 1, y_train.shape[1]))\n",
    "y_test =  np.reshape(y_test, (y_test.shape[0], 1, y_test.shape[1]))"
   ]
  },
  {
   "cell_type": "code",
   "execution_count": 92,
   "id": "dominant-change",
   "metadata": {},
   "outputs": [
    {
     "name": "stdout",
     "output_type": "stream",
     "text": [
      "training features shape == (135740, 6, 5).\n",
      "training targets shape == (135740, 1, 5).\n",
      "testing features shape == (33931, 6, 5).\n",
      "testing features shape == (33931, 1, 5).\n",
      "X_TRAIN\n",
      "[[[0.79381908 0.79306201 0.78975707 0.79399787 0.7947809 ]\n",
      "  [0.79239617 0.79427395 0.79096397 0.79543074 0.7918645 ]\n",
      "  [0.79226066 0.79611387 0.79326584 0.79503969 0.79322096]\n",
      "  [0.79280526 0.79519957 0.79234094 0.79427955 0.79145367]\n",
      "  [0.79521252 0.79757672 0.79493492 0.79685162 0.79381995]\n",
      "  [0.79286119 0.79658428 0.79326466 0.79522572 0.79382207]]\n",
      "\n",
      " [[0.79239617 0.79427395 0.79096397 0.79543074 0.7918645 ]\n",
      "  [0.79226066 0.79611387 0.79326584 0.79503969 0.79322096]\n",
      "  [0.79280526 0.79519957 0.79234094 0.79427955 0.79145367]\n",
      "  [0.79521252 0.79757672 0.79493492 0.79685162 0.79381995]\n",
      "  [0.79286119 0.79658428 0.79326466 0.79522572 0.79382207]\n",
      "  [0.79286119 0.79757885 0.79425509 0.79592379 0.79382207]]\n",
      "\n",
      " [[0.79226066 0.79611387 0.79326584 0.79503969 0.79322096]\n",
      "  [0.79280526 0.79519957 0.79234094 0.79427955 0.79145367]\n",
      "  [0.79521252 0.79757672 0.79493492 0.79685162 0.79381995]\n",
      "  [0.79286119 0.79658428 0.79326466 0.79522572 0.79382207]\n",
      "  [0.79286119 0.79757885 0.79425509 0.79592379 0.79382207]\n",
      "  [0.79873533 0.7961193  0.79280162 0.79959732 0.79886101]]\n",
      "\n",
      " ...\n",
      "\n",
      " [[0.1901219  0.19135995 0.19056434 0.1910621  0.1904913 ]\n",
      "  [0.19029133 0.19145502 0.19071762 0.19105888 0.19046963]\n",
      "  [0.19023454 0.19128333 0.19079163 0.19095992 0.19029873]\n",
      "  [0.18989023 0.19029421 0.19026943 0.1900076  0.18966021]\n",
      "  [0.18936133 0.18994142 0.18991721 0.18986178 0.18896295]\n",
      "  [0.1887688  0.18751337 0.18912931 0.18770675 0.18722551]]\n",
      "\n",
      " [[0.19029133 0.19145502 0.19071762 0.19105888 0.19046963]\n",
      "  [0.19023454 0.19128333 0.19079163 0.19095992 0.19029873]\n",
      "  [0.18989023 0.19029421 0.19026943 0.1900076  0.18966021]\n",
      "  [0.18936133 0.18994142 0.18991721 0.18986178 0.18896295]\n",
      "  [0.1887688  0.18751337 0.18912931 0.18770675 0.18722551]\n",
      "  [0.18710891 0.18600324 0.18766166 0.18619085 0.18574149]]\n",
      "\n",
      " [[0.19023454 0.19128333 0.19079163 0.19095992 0.19029873]\n",
      "  [0.18989023 0.19029421 0.19026943 0.1900076  0.18966021]\n",
      "  [0.18936133 0.18994142 0.18991721 0.18986178 0.18896295]\n",
      "  [0.1887688  0.18751337 0.18912931 0.18770675 0.18722551]\n",
      "  [0.18710891 0.18600324 0.18766166 0.18619085 0.18574149]\n",
      "  [0.18666049 0.18727875 0.18667598 0.18738845 0.18654393]]]\n",
      "Y_TRAIN\n",
      "[[[0.79286119 0.79757885 0.79425509 0.79592379 0.79382207]]\n",
      "\n",
      " [[0.79873533 0.7961193  0.79280162 0.79959732 0.79886101]]\n",
      "\n",
      " [[0.80186006 0.80311818 0.79977133 0.80332673 0.80282978]]\n",
      "\n",
      " ...\n",
      "\n",
      " [[0.18710891 0.18600324 0.18766166 0.18619085 0.18574149]]\n",
      "\n",
      " [[0.18666049 0.18727875 0.18667598 0.18738845 0.18654393]]\n",
      "\n",
      " [[0.18660145 0.1872503  0.18672986 0.18717014 0.18665078]]]\n"
     ]
    }
   ],
   "source": [
    "#PRINT DATA SHAPE\n",
    "print('training features shape == {}.'.format(x_train.shape))\n",
    "print('training targets shape == {}.'.format(y_train.shape))\n",
    "print('testing features shape == {}.'.format(x_test.shape))\n",
    "print('testing features shape == {}.'.format(y_test.shape))\n",
    "\n",
    "print(\"X_TRAIN\")\n",
    "print(x_train)\n",
    "print(\"Y_TRAIN\")\n",
    "print(y_train)"
   ]
  },
  {
   "cell_type": "code",
   "execution_count": 93,
   "id": "injured-initial",
   "metadata": {},
   "outputs": [
    {
     "name": "stdout",
     "output_type": "stream",
     "text": [
      "Model: \"sequential_3\"\n",
      "_________________________________________________________________\n",
      "Layer (type)                 Output Shape              Param #   \n",
      "=================================================================\n",
      "lstm_3 (LSTM)                (None, 6, 512)            1060864   \n",
      "_________________________________________________________________\n",
      "dropout_3 (Dropout)          (None, 6, 512)            0         \n",
      "_________________________________________________________________\n",
      "dense_3 (Dense)              (None, 6, 5)              2565      \n",
      "_________________________________________________________________\n",
      "activation_3 (Activation)    (None, 6, 5)              0         \n",
      "=================================================================\n",
      "Total params: 1,063,429\n",
      "Trainable params: 1,063,429\n",
      "Non-trainable params: 0\n",
      "_________________________________________________________________\n",
      "Epoch 1/53\n",
      "11312/11312 [==============================] - 51s 4ms/step - loss: 0.0049 - mae: 0.0259 - val_loss: 0.0069 - val_mae: 0.0721\n",
      "Epoch 2/53\n",
      "11312/11312 [==============================] - 50s 4ms/step - loss: 0.0017 - mae: 0.0157 - val_loss: 0.0070 - val_mae: 0.0725\n",
      "Epoch 3/53\n",
      "11312/11312 [==============================] - 50s 4ms/step - loss: 0.0028 - mae: 0.0187 - val_loss: 0.0068 - val_mae: 0.0714\n",
      "Epoch 4/53\n",
      "11312/11312 [==============================] - 50s 4ms/step - loss: 0.0037 - mae: 0.0193 - val_loss: 0.0064 - val_mae: 0.0691\n",
      "Epoch 5/53\n",
      "11312/11312 [==============================] - 52s 5ms/step - loss: 0.0039 - mae: 0.0187 - val_loss: 0.0060 - val_mae: 0.0668\n",
      "Epoch 6/53\n",
      "11312/11312 [==============================] - 54s 5ms/step - loss: 0.0035 - mae: 0.0172 - val_loss: 0.0057 - val_mae: 0.0652\n",
      "Epoch 7/53\n",
      "11312/11312 [==============================] - 54s 5ms/step - loss: 0.0030 - mae: 0.0158 - val_loss: 0.0054 - val_mae: 0.0635\n",
      "Epoch 8/53\n",
      "11312/11312 [==============================] - 54s 5ms/step - loss: 0.0026 - mae: 0.0148 - val_loss: 0.0050 - val_mae: 0.0610\n",
      "Epoch 9/53\n",
      "11312/11312 [==============================] - 54s 5ms/step - loss: 0.0022 - mae: 0.0140 - val_loss: 0.0046 - val_mae: 0.0589\n",
      "Epoch 10/53\n",
      "11312/11312 [==============================] - 54s 5ms/step - loss: 0.0019 - mae: 0.0133 - val_loss: 0.0042 - val_mae: 0.0565\n",
      "Epoch 11/53\n",
      "11312/11312 [==============================] - 54s 5ms/step - loss: 0.0017 - mae: 0.0128 - val_loss: 0.0038 - val_mae: 0.0538\n",
      "Epoch 12/53\n",
      "11312/11312 [==============================] - 55s 5ms/step - loss: 0.0014 - mae: 0.0123 - val_loss: 0.0036 - val_mae: 0.0518\n",
      "Epoch 13/53\n",
      "11312/11312 [==============================] - 54s 5ms/step - loss: 0.0013 - mae: 0.0120 - val_loss: 0.0033 - val_mae: 0.0501\n",
      "Epoch 14/53\n",
      "11312/11312 [==============================] - 55s 5ms/step - loss: 0.0011 - mae: 0.0118 - val_loss: 0.0032 - val_mae: 0.0488\n",
      "Epoch 15/53\n",
      "11312/11312 [==============================] - 55s 5ms/step - loss: 0.0010 - mae: 0.0117 - val_loss: 0.0030 - val_mae: 0.0475\n",
      "Epoch 16/53\n",
      "11312/11312 [==============================] - 55s 5ms/step - loss: 9.9737e-04 - mae: 0.0119 - val_loss: 0.0028 - val_mae: 0.0462\n",
      "Epoch 17/53\n",
      "11312/11312 [==============================] - 55s 5ms/step - loss: 9.1848e-04 - mae: 0.0114 - val_loss: 0.0027 - val_mae: 0.0450\n",
      "Epoch 18/53\n",
      "11312/11312 [==============================] - 55s 5ms/step - loss: 8.8009e-04 - mae: 0.0114 - val_loss: 0.0026 - val_mae: 0.0447\n",
      "Epoch 19/53\n",
      "11312/11312 [==============================] - 55s 5ms/step - loss: 8.6889e-04 - mae: 0.0112 - val_loss: 0.0025 - val_mae: 0.0438\n",
      "Epoch 20/53\n",
      "11312/11312 [==============================] - 55s 5ms/step - loss: 8.1711e-04 - mae: 0.0111 - val_loss: 0.0025 - val_mae: 0.0436\n",
      "Epoch 21/53\n",
      "11312/11312 [==============================] - 55s 5ms/step - loss: 8.1869e-04 - mae: 0.0111 - val_loss: 0.0024 - val_mae: 0.0427\n",
      "Epoch 22/53\n",
      "11312/11312 [==============================] - 55s 5ms/step - loss: 7.5796e-04 - mae: 0.0108 - val_loss: 0.0024 - val_mae: 0.0422\n",
      "Epoch 23/53\n",
      "11312/11312 [==============================] - 55s 5ms/step - loss: 7.4843e-04 - mae: 0.0107 - val_loss: 0.0023 - val_mae: 0.0418\n",
      "Epoch 24/53\n",
      "11312/11312 [==============================] - 55s 5ms/step - loss: 7.0652e-04 - mae: 0.0105 - val_loss: 0.0023 - val_mae: 0.0414\n",
      "Epoch 25/53\n",
      "11312/11312 [==============================] - 55s 5ms/step - loss: 7.0196e-04 - mae: 0.0106 - val_loss: 0.0022 - val_mae: 0.0412\n",
      "Epoch 26/53\n",
      "11312/11312 [==============================] - 51s 5ms/step - loss: 6.6456e-04 - mae: 0.0103 - val_loss: 0.0022 - val_mae: 0.0408\n",
      "Epoch 27/53\n",
      "11312/11312 [==============================] - 51s 5ms/step - loss: 6.4597e-04 - mae: 0.0102 - val_loss: 0.0022 - val_mae: 0.0405\n",
      "Epoch 28/53\n",
      "11312/11312 [==============================] - 51s 5ms/step - loss: 6.1929e-04 - mae: 0.0101 - val_loss: 0.0021 - val_mae: 0.0402\n",
      "Epoch 29/53\n",
      "11312/11312 [==============================] - 51s 5ms/step - loss: 5.9464e-04 - mae: 0.0100 - val_loss: 0.0021 - val_mae: 0.0400\n",
      "Epoch 30/53\n",
      "11312/11312 [==============================] - 51s 5ms/step - loss: 5.7002e-04 - mae: 0.0099 - val_loss: 0.0021 - val_mae: 0.0399\n",
      "Epoch 31/53\n",
      "11312/11312 [==============================] - 50s 4ms/step - loss: 5.5470e-04 - mae: 0.0098 - val_loss: 0.0021 - val_mae: 0.0397\n",
      "Epoch 32/53\n",
      "11312/11312 [==============================] - 50s 4ms/step - loss: 5.3496e-04 - mae: 0.0097 - val_loss: 0.0020 - val_mae: 0.0395\n",
      "Epoch 33/53\n",
      "11312/11312 [==============================] - 50s 4ms/step - loss: 5.0253e-04 - mae: 0.0094 - val_loss: 0.0020 - val_mae: 0.0394\n",
      "Epoch 34/53\n",
      "11312/11312 [==============================] - 51s 4ms/step - loss: 4.7791e-04 - mae: 0.0092 - val_loss: 0.0020 - val_mae: 0.0395\n",
      "Epoch 35/53\n",
      "11312/11312 [==============================] - 51s 4ms/step - loss: 4.6535e-04 - mae: 0.0092 - val_loss: 0.0020 - val_mae: 0.0394\n",
      "Epoch 36/53\n",
      "11312/11312 [==============================] - 51s 5ms/step - loss: 4.3677e-04 - mae: 0.0091 - val_loss: 0.0020 - val_mae: 0.0394\n",
      "Epoch 37/53\n",
      "11312/11312 [==============================] - 51s 5ms/step - loss: 4.1017e-04 - mae: 0.0089 - val_loss: 0.0020 - val_mae: 0.0395\n",
      "Epoch 38/53\n",
      "11312/11312 [==============================] - 51s 5ms/step - loss: 3.7758e-04 - mae: 0.0088 - val_loss: 0.0020 - val_mae: 0.0396\n",
      "Epoch 39/53\n",
      "11312/11312 [==============================] - 52s 5ms/step - loss: 3.4697e-04 - mae: 0.0085 - val_loss: 0.0020 - val_mae: 0.0396\n",
      "Epoch 40/53\n",
      "11312/11312 [==============================] - 52s 5ms/step - loss: 3.2615e-04 - mae: 0.0083 - val_loss: 0.0020 - val_mae: 0.0395\n",
      "Epoch 41/53\n",
      "11312/11312 [==============================] - 52s 5ms/step - loss: 3.0733e-04 - mae: 0.0081 - val_loss: 0.0020 - val_mae: 0.0396\n",
      "Epoch 42/53\n",
      "11312/11312 [==============================] - 52s 5ms/step - loss: 2.9521e-04 - mae: 0.0080 - val_loss: 0.0020 - val_mae: 0.0395\n",
      "Epoch 43/53\n",
      "11312/11312 [==============================] - 52s 5ms/step - loss: 2.7961e-04 - mae: 0.0079 - val_loss: 0.0020 - val_mae: 0.0395\n",
      "Epoch 44/53\n",
      "11312/11312 [==============================] - 52s 5ms/step - loss: 2.6779e-04 - mae: 0.0078 - val_loss: 0.0020 - val_mae: 0.0393\n",
      "Epoch 45/53\n",
      "11312/11312 [==============================] - 52s 5ms/step - loss: 2.5714e-04 - mae: 0.0078 - val_loss: 0.0020 - val_mae: 0.0393\n",
      "Epoch 46/53\n",
      "11312/11312 [==============================] - 52s 5ms/step - loss: 2.4724e-04 - mae: 0.0077 - val_loss: 0.0020 - val_mae: 0.0393\n",
      "Epoch 47/53\n",
      "11312/11312 [==============================] - 52s 5ms/step - loss: 2.3856e-04 - mae: 0.0076 - val_loss: 0.0020 - val_mae: 0.0391\n",
      "Epoch 48/53\n",
      "11312/11312 [==============================] - 52s 5ms/step - loss: 2.2698e-04 - mae: 0.0075 - val_loss: 0.0020 - val_mae: 0.0392\n",
      "Epoch 49/53\n",
      "11312/11312 [==============================] - 52s 5ms/step - loss: 2.2028e-04 - mae: 0.0075 - val_loss: 0.0020 - val_mae: 0.0391\n",
      "Epoch 50/53\n",
      "11312/11312 [==============================] - 52s 5ms/step - loss: 2.1293e-04 - mae: 0.0074 - val_loss: 0.0019 - val_mae: 0.0390\n",
      "Epoch 51/53\n",
      "11312/11312 [==============================] - 52s 5ms/step - loss: 2.0321e-04 - mae: 0.0073 - val_loss: 0.0019 - val_mae: 0.0391\n",
      "Epoch 52/53\n",
      "11312/11312 [==============================] - 52s 5ms/step - loss: 1.9343e-04 - mae: 0.0072 - val_loss: 0.0019 - val_mae: 0.0391\n"
     ]
    },
    {
     "name": "stdout",
     "output_type": "stream",
     "text": [
      "Epoch 53/53\n",
      "11312/11312 [==============================] - 50s 4ms/step - loss: 1.9040e-04 - mae: 0.0072 - val_loss: 0.0019 - val_mae: 0.0390\n"
     ]
    }
   ],
   "source": [
    "# CLEAN UP MEMORY\n",
    "gc.collect()\n",
    "# random seed for reproducibility\n",
    "np.random.seed(202)\n",
    "# initialise model architecture\n",
    "model = build_model(x_train, neurons=neurons)\n",
    "# train model on data\n",
    "history = model.fit(x_train, y_train, epochs=epochs, batch_size=batch_size, verbose=1, validation_data=(x_test, y_test), shuffle=False)"
   ]
  },
  {
   "cell_type": "code",
   "execution_count": 94,
   "id": "choice-contrast",
   "metadata": {},
   "outputs": [
    {
     "data": {
      "image/png": "[encoded data removed]",
      "text/plain": [
       "<Figure size 432x288 with 1 Axes>"
      ]
     },
     "metadata": {
      "needs_background": "light"
     },
     "output_type": "display_data"
    }
   ],
   "source": [
    "#PLOT LOSS\n",
    "plt.plot(history.history['loss'])\n",
    "plt.plot(history.history['val_loss'])\n",
    "plt.title('model loss')\n",
    "plt.ylabel('loss')\n",
    "plt.xlabel('epoch')\n",
    "plt.legend(['train', 'val'], loc='upper left')\n",
    "plt.show()"
   ]
  },
  {
   "cell_type": "code",
   "execution_count": 95,
   "id": "lyric-diploma",
   "metadata": {},
   "outputs": [
    {
     "data": {
      "image/png": "[encoded data removed]",
      "text/plain": [
       "<Figure size 432x288 with 1 Axes>"
      ]
     },
     "metadata": {
      "needs_background": "light"
     },
     "output_type": "display_data"
    }
   ],
   "source": [
    "#PLOT LOSS\n",
    "plt.plot(history.history['mae'])\n",
    "plt.plot(history.history['val_mae'])\n",
    "plt.title('model mae')\n",
    "plt.ylabel('mae')\n",
    "plt.xlabel('epoch')\n",
    "plt.legend(['train', 'val'], loc='upper left')\n",
    "plt.show()"
   ]
  },
  {
   "cell_type": "code",
   "execution_count": 96,
   "id": "international-stockholm",
   "metadata": {},
   "outputs": [
    {
     "name": "stdout",
     "output_type": "stream",
     "text": [
      "(135740, 6, 5)\n",
      "(33931, 6, 5)\n"
     ]
    }
   ],
   "source": [
    "#PERFORM PREDICTIONS\n",
    "train_predict = model.predict(x_train)\n",
    "test_predict = model.predict(x_test)\n",
    "print(train_predict.shape)\n",
    "print(test_predict.shape)\n",
    "\n",
    "#WHY IS IT PREDICTING 6 OUTCOMES. IS IT BECAUSE PROVIDING DATA IN THAT FORMAT? NEED TO PROVIDE FLAT DATA?"
   ]
  },
  {
   "cell_type": "code",
   "execution_count": 124,
   "id": "powerful-replica",
   "metadata": {},
   "outputs": [
    {
     "name": "stdout",
     "output_type": "stream",
     "text": [
      "(33931, 1)\n",
      "(135740, 1)\n"
     ]
    }
   ],
   "source": [
    "test_predict_shaped = scaler.inverse_transform(np.array(test_predict)[:, 0])\n",
    "train_predict_shaped = scaler.inverse_transform(np.array(train_predict)[:, 0])\n",
    "test_predict_shaped = test_predict_shaped[:,4:5]\n",
    "train_predict_shaped = train_predict_shaped[:,4:5]\n",
    "print(test_predict_shaped.shape)\n",
    "print(train_predict_shaped.shape)"
   ]
  },
  {
   "cell_type": "code",
   "execution_count": 125,
   "id": "liberal-wyoming",
   "metadata": {},
   "outputs": [
    {
     "name": "stdout",
     "output_type": "stream",
     "text": [
      "Train Score: 0.09 RMSE\n",
      "Test Score: 0.04 RMSE\n"
     ]
    }
   ],
   "source": [
    "# calculate root mean squared error\n",
    "train_score = math.sqrt(mean_squared_error(y_train[:,0,4], train_predict[:,0,4]))\n",
    "print('Train Score: %.2f RMSE' % (train_score))\n",
    "test_score = math.sqrt(mean_squared_error(y_test[:,0,4], test_predict[:,0,4]))\n",
    "print('Test Score: %.2f RMSE' % (test_score))"
   ]
  },
  {
   "cell_type": "code",
   "execution_count": 136,
   "id": "apart-twins",
   "metadata": {},
   "outputs": [
    {
     "data": {
      "image/png": "[encoded data removed]",
      "text/plain": [
       "<Figure size 1080x1080 with 1 Axes>"
      ]
     },
     "metadata": {
      "needs_background": "light"
     },
     "output_type": "display_data"
    }
   ],
   "source": [
    "\n",
    "baseData = scaler.inverse_transform(data)[:, 4:5]\n",
    "# shift train predictions for plotting\n",
    "trainPredictPlot = np.empty_like(baseData)\n",
    "trainPredictPlot[:, :] = np.nan\n",
    "trainPredictPlot[look_back:len(train_predict_shaped)+look_back, :] = train_predict_shaped\n",
    "# shift test predictions for plotting\n",
    "testPredictPlot = np.empty_like(baseData)\n",
    "testPredictPlot[:, :] = np.nan\n",
    "testPredictPlot[len(train_predict_shaped)+(look_back*2)+1:len(baseData)-1, :] = test_predict_shaped[0:33929, :]\n",
    "# plot baseline and predictions\n",
    "plt.figure(figsize=(15,15))\n",
    "plt.plot(baseData, '-', color='k', label='Close')\n",
    "plt.plot(trainPredictPlot, '-', color='g', label='Train Predicted Close')\n",
    "plt.plot(testPredictPlot, '-', color='r', label='Test Predicted Close')\n",
    "plt.legend(fontsize=20)\n",
    "\n",
    "plt.show()"
   ]
  }
 ],
 "metadata": {
  "kernelspec": {
   "display_name": "Python 3",
   "language": "python",
   "name": "python3"
  },
  "language_info": {
   "codemirror_mode": {
    "name": "ipython",
    "version": 3
   },
   "file_extension": ".py",
   "mimetype": "text/x-python",
   "name": "python",
   "nbconvert_exporter": "python",
   "pygments_lexer": "ipython3",
   "version": "3.8.5"
  }
 },
 "nbformat": 4,
 "nbformat_minor": 5
}
