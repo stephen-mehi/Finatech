{
 "cells": [
  {
   "cell_type": "code",
   "execution_count": 316,
   "id": "absent-alarm",
   "metadata": {},
   "outputs": [],
   "source": [
    "import gc\n",
    "import datetime\n",
    "import pandas as pd\n",
    "import numpy as np\n",
    "import matplotlib.pyplot as plt\n",
    "import seaborn as sns\n",
    "from sklearn.svm import SVC\n",
    "from sklearn.feature_selection import RFE\n",
    "from sklearn.preprocessing import MinMaxScaler\n",
    "import math"
   ]
  },
  {
   "cell_type": "code",
   "execution_count": 317,
   "id": "dimensional-passage",
   "metadata": {},
   "outputs": [],
   "source": [
    "import tensorflow as tf\n",
    "from tensorflow import keras\n",
    "\n",
    "from tensorflow.keras import models\n",
    "from tensorflow.keras import layers"
   ]
  },
  {
   "cell_type": "code",
   "execution_count": 318,
   "id": "developing-circular",
   "metadata": {},
   "outputs": [
    {
     "name": "stdout",
     "output_type": "stream",
     "text": [
      "True\n",
      "[PhysicalDevice(name='/physical_device:GPU:0', device_type='GPU')]\n"
     ]
    },
    {
     "data": {
      "text/plain": [
       "6073"
      ]
     },
     "execution_count": 318,
     "metadata": {},
     "output_type": "execute_result"
    }
   ],
   "source": [
    "print(tf.test.is_built_with_cuda())\n",
    "print(tf.config.list_physical_devices('GPU')) \n",
    "\n",
    "# CLEAN UP MEMORY\n",
    "gc.collect()"
   ]
  },
  {
   "cell_type": "code",
   "execution_count": 319,
   "id": "about-dependence",
   "metadata": {},
   "outputs": [],
   "source": [
    "#READ DATA FROM FILE\n",
    "dataset=pd.read_csv(\"C:/ProgramData/ETH/TrainingData/training.csv\", sep=',',header=0)"
   ]
  },
  {
   "cell_type": "code",
   "execution_count": 320,
   "id": "purple-object",
   "metadata": {},
   "outputs": [
    {
     "name": "stdout",
     "output_type": "stream",
     "text": [
      "             close        date        high         low        open  \\\n",
      "0       515.609375  1527552000  515.609375  512.633685  512.633685   \n",
      "1       514.018489  1527552300  514.832422  513.291775  513.291775   \n",
      "2       514.758432  1527552600  514.758432  514.290853  514.546926   \n",
      "3       513.794384  1527552900  515.055799  513.794384  514.042601   \n",
      "4       515.085181  1527553200  516.370237  515.085181  515.457029   \n",
      "...            ...         ...         ...         ...         ...   \n",
      "169678  153.050617  1587010800  153.050617  152.854924  152.854924   \n",
      "169679  152.752155  1587011100  153.006762  152.752155  153.006762   \n",
      "169680  152.439027  1587011400  152.821772  152.439027  152.744516   \n",
      "169681  152.565608  1587011700  152.619371  152.429768  152.429768   \n",
      "169682  152.619000  1587012000  152.619000  152.467567  152.493479   \n",
      "\n",
      "        quoteVolume        volume  weightedAverage  \n",
      "0         93.446187  48034.930402       514.038418  \n",
      "1          1.658992    854.079129       514.818062  \n",
      "2         14.711032   7570.374609       514.605286  \n",
      "3          1.965891   1010.844766       514.191683  \n",
      "4         35.275120  18187.540877       515.591183  \n",
      "...             ...           ...              ...  \n",
      "169678    45.669403   6982.254289       152.886919  \n",
      "169679     6.905527   1056.130607       152.939893  \n",
      "169680    23.023469   3517.052755       152.759464  \n",
      "169681    24.788608   3783.001936       152.610503  \n",
      "169682    40.849875   6231.882089       152.555719  \n",
      "\n",
      "[169683 rows x 8 columns]\n"
     ]
    }
   ],
   "source": [
    "#PRINT DATA\n",
    "print(dataset)"
   ]
  },
  {
   "cell_type": "code",
   "execution_count": 321,
   "id": "bored-louisiana",
   "metadata": {},
   "outputs": [
    {
     "name": "stdout",
     "output_type": "stream",
     "text": [
      "                    close      date      high       low      open  \\\n",
      "close            1.000000 -0.508373  0.999990  0.999990  0.999984   \n",
      "date            -0.508373  1.000000 -0.508153 -0.508644 -0.508391   \n",
      "high             0.999990 -0.508153  1.000000  0.999979  0.999990   \n",
      "low              0.999990 -0.508644  0.999979  1.000000  0.999989   \n",
      "open             0.999984 -0.508391  0.999990  0.999989  1.000000   \n",
      "quoteVolume     -0.097158  0.265288 -0.095563 -0.098753 -0.096949   \n",
      "volume           0.013223  0.200600  0.014927  0.011517  0.013439   \n",
      "weightedAverage  0.999995 -0.508401  0.999994  0.999994  0.999993   \n",
      "\n",
      "                 quoteVolume    volume  weightedAverage  \n",
      "close              -0.097158  0.013223         0.999995  \n",
      "date                0.265288  0.200600        -0.508401  \n",
      "high               -0.095563  0.014927         0.999994  \n",
      "low                -0.098753  0.011517         0.999994  \n",
      "open               -0.096949  0.013439         0.999993  \n",
      "quoteVolume         1.000000  0.931455        -0.097192  \n",
      "volume              0.931455  1.000000         0.013193  \n",
      "weightedAverage    -0.097192  0.013193         1.000000  \n"
     ]
    }
   ],
   "source": [
    "#CONDUCT PEARSON CORRELATION\n",
    "correlation_matrix = dataset.corr()\n",
    "print(correlation_matrix)"
   ]
  },
  {
   "cell_type": "code",
   "execution_count": 322,
   "id": "regular-wrist",
   "metadata": {},
   "outputs": [
    {
     "data": {
      "text/plain": [
       "<AxesSubplot:>"
      ]
     },
     "execution_count": 322,
     "metadata": {},
     "output_type": "execute_result"
    },
    {
     "data": {
      "image/png": "[encoded data removed]",
      "text/plain": [
       "<Figure size 432x288 with 2 Axes>"
      ]
     },
     "metadata": {
      "needs_background": "light"
     },
     "output_type": "display_data"
    }
   ],
   "source": [
    "# plot the heatmap\n",
    "sns.heatmap(correlation_matrix, xticklabels=correlation_matrix.columns, yticklabels=correlation_matrix.columns)"
   ]
  },
  {
   "cell_type": "code",
   "execution_count": 323,
   "id": "multiple-angle",
   "metadata": {},
   "outputs": [
    {
     "name": "stdout",
     "output_type": "stream",
     "text": [
      "              high         low        open  weightedAverage       close\n",
      "0       515.609375  512.633685  512.633685       514.038418  515.609375\n",
      "1       514.832422  513.291775  513.291775       514.818062  514.018489\n",
      "2       514.758432  514.290853  514.546926       514.605286  514.758432\n",
      "3       515.055799  513.794384  514.042601       514.191683  513.794384\n",
      "4       516.370237  515.085181  515.457029       515.591183  515.085181\n",
      "...            ...         ...         ...              ...         ...\n",
      "169678  153.050617  152.854924  152.854924       152.886919  153.050617\n",
      "169679  153.006762  152.752155  153.006762       152.939893  152.752155\n",
      "169680  152.821772  152.439027  152.744516       152.759464  152.439027\n",
      "169681  152.619371  152.429768  152.429768       152.610503  152.565608\n",
      "169682  152.619000  152.467567  152.493479       152.555719  152.619000\n",
      "\n",
      "[169683 rows x 5 columns]\n"
     ]
    }
   ],
   "source": [
    "#SELECT FEATURES AND TAGET\n",
    "data = dataset[[\"high\",\"low\",\"open\",\"weightedAverage\", \"close\"]]\n",
    "#data = data.values\n",
    "#data = data.astype('float32')\n",
    "print(data)"
   ]
  },
  {
   "cell_type": "code",
   "execution_count": 324,
   "id": "impossible-barbados",
   "metadata": {},
   "outputs": [],
   "source": [
    "#SCALE DATA \n",
    "scaler = MinMaxScaler(feature_range=(0, 1))\n",
    "data = scaler.fit_transform(data)"
   ]
  },
  {
   "cell_type": "code",
   "execution_count": 325,
   "id": "brilliant-telephone",
   "metadata": {},
   "outputs": [],
   "source": [
    "#DEFINE MODEL CREATION METHOD. ENABLES EASY HYPER PARAM TUNING\n",
    "def build_model(inputs, neurons, activ_func=activation_function, dropout=dropout, loss=loss, optimizer=optimizer):\n",
    "    \"\"\"\n",
    "    inputs: input data as numpy array\n",
    "    output_size: number of predictions per input sample\n",
    "    neurons: number of neurons/ units in the LSTM layer\n",
    "    active_func: Activation function to be used in LSTM layers and Dense layer\n",
    "    dropout: dropout ration, default is 0.25\n",
    "    loss: loss function for calculating the gradient\n",
    "    optimizer: type of optimizer to backpropagate the gradient\n",
    "    \n",
    "    This function will build 3 layered RNN model with LSTM cells with dripouts after each LSTM layer \n",
    "    and finally a dense layer to produce the output using keras' sequential model.\n",
    "    Return: Keras sequential model and model summary\n",
    "    \"\"\"\n",
    "    \n",
    "    model = models.Sequential()\n",
    "    model.add(layers.LSTM(neurons, return_sequences=True, input_shape=(inputs.shape[1], inputs.shape[2]), activation=activ_func))\n",
    "    model.add(layers.Dropout(dropout))\n",
    "    #model.add(layers.Dense(units=inputs.shape[2]))\n",
    "    model.add(layers.Dense(units=1))\n",
    "    model.add(layers.Activation(activ_func))\n",
    "    model.compile(loss=loss, optimizer=optimizer, metrics=['mae'])\n",
    "    model.summary()\n",
    "    return model"
   ]
  },
  {
   "cell_type": "code",
   "execution_count": 326,
   "id": "requested-qatar",
   "metadata": {},
   "outputs": [],
   "source": [
    "def split_data(training_split, data):\n",
    "    # split into train and test sets\n",
    "    train_size = int(len(data) * training_split)\n",
    "    test_size = len(data) - train_size\n",
    "    train, test = data[0:train_size,:], data[train_size:len(data),:]\n",
    "    return (train, test)"
   ]
  },
  {
   "cell_type": "code",
   "execution_count": 327,
   "id": "opponent-result",
   "metadata": {},
   "outputs": [],
   "source": [
    "def split_sequences_multivariate_output(sequences, look_back):\n",
    "    x, y = list(), list()\n",
    "    for i in range(len(sequences)):\n",
    "        # find the end of this pattern\n",
    "        end_ix = i + look_back\n",
    "        # check if we are beyond the dataset\n",
    "        if end_ix > len(sequences)-1:\n",
    "            break\n",
    "        # gather input and output parts of the pattern\n",
    "        seq_x, seq_y = sequences[i:end_ix, 0:4], sequences[end_ix, 4:5]\n",
    "        x.append(seq_x)\n",
    "        y.append(seq_y)\n",
    "            \n",
    "    return np.array(x), np.array(y)"
   ]
  },
  {
   "cell_type": "code",
   "execution_count": 328,
   "id": "delayed-apollo",
   "metadata": {},
   "outputs": [],
   "source": [
    "#INIT HYPER PARAMS\n",
    "neurons = 512\n",
    "activation_function = 'tanh'\n",
    "loss = 'mse'\n",
    "optimizer=\"adam\"\n",
    "dropout = 0.2\n",
    "batch_size = 12\n",
    "#epochs = 53\n",
    "epochs = 1\n",
    "training_split = 0.8\n",
    "look_back = 6"
   ]
  },
  {
   "cell_type": "code",
   "execution_count": 329,
   "id": "ongoing-antigua",
   "metadata": {},
   "outputs": [],
   "source": [
    "#SPLIT DATA FOR TRAINING\n",
    "train_data, test_data = split_data(training_split, data)"
   ]
  },
  {
   "cell_type": "code",
   "execution_count": 330,
   "id": "potential-marsh",
   "metadata": {},
   "outputs": [
    {
     "name": "stdout",
     "output_type": "stream",
     "text": [
      "training features shape == (135740, 6, 4).\n",
      "training targets shape == (135740, 1).\n",
      "testing features shape == (33931, 6, 4).\n",
      "testing features shape == (33931, 1).\n",
      "X_TRAIN\n",
      "[[[0.79381908 0.79306201 0.78975707 0.79399787]\n",
      "  [0.79239617 0.79427395 0.79096397 0.79543074]\n",
      "  [0.79226066 0.79611387 0.79326584 0.79503969]\n",
      "  [0.79280526 0.79519957 0.79234094 0.79427955]\n",
      "  [0.79521252 0.79757672 0.79493492 0.79685162]\n",
      "  [0.79286119 0.79658428 0.79326466 0.79522572]]\n",
      "\n",
      " [[0.79239617 0.79427395 0.79096397 0.79543074]\n",
      "  [0.79226066 0.79611387 0.79326584 0.79503969]\n",
      "  [0.79280526 0.79519957 0.79234094 0.79427955]\n",
      "  [0.79521252 0.79757672 0.79493492 0.79685162]\n",
      "  [0.79286119 0.79658428 0.79326466 0.79522572]\n",
      "  [0.79286119 0.79757885 0.79425509 0.79592379]]\n",
      "\n",
      " [[0.79226066 0.79611387 0.79326584 0.79503969]\n",
      "  [0.79280526 0.79519957 0.79234094 0.79427955]\n",
      "  [0.79521252 0.79757672 0.79493492 0.79685162]\n",
      "  [0.79286119 0.79658428 0.79326466 0.79522572]\n",
      "  [0.79286119 0.79757885 0.79425509 0.79592379]\n",
      "  [0.79873533 0.7961193  0.79280162 0.79959732]]\n",
      "\n",
      " ...\n",
      "\n",
      " [[0.1901219  0.19135995 0.19056434 0.1910621 ]\n",
      "  [0.19029133 0.19145502 0.19071762 0.19105888]\n",
      "  [0.19023454 0.19128333 0.19079163 0.19095992]\n",
      "  [0.18989023 0.19029421 0.19026943 0.1900076 ]\n",
      "  [0.18936133 0.18994142 0.18991721 0.18986178]\n",
      "  [0.1887688  0.18751337 0.18912931 0.18770675]]\n",
      "\n",
      " [[0.19029133 0.19145502 0.19071762 0.19105888]\n",
      "  [0.19023454 0.19128333 0.19079163 0.19095992]\n",
      "  [0.18989023 0.19029421 0.19026943 0.1900076 ]\n",
      "  [0.18936133 0.18994142 0.18991721 0.18986178]\n",
      "  [0.1887688  0.18751337 0.18912931 0.18770675]\n",
      "  [0.18710891 0.18600324 0.18766166 0.18619085]]\n",
      "\n",
      " [[0.19023454 0.19128333 0.19079163 0.19095992]\n",
      "  [0.18989023 0.19029421 0.19026943 0.1900076 ]\n",
      "  [0.18936133 0.18994142 0.18991721 0.18986178]\n",
      "  [0.1887688  0.18751337 0.18912931 0.18770675]\n",
      "  [0.18710891 0.18600324 0.18766166 0.18619085]\n",
      "  [0.18666049 0.18727875 0.18667598 0.18738845]]]\n",
      "Y_TRAIN\n",
      "[[0.79382207]\n",
      " [0.79886101]\n",
      " [0.80282978]\n",
      " ...\n",
      " [0.18574149]\n",
      " [0.18654393]\n",
      " [0.18665078]]\n"
     ]
    }
   ],
   "source": [
    "#SHAPE DATA FOR LSTM INPUT\n",
    "x_train, y_train = split_sequences_multivariate_output(train_data, look_back)\n",
    "x_test, y_test = split_sequences_multivariate_output(test_data, look_back)\n",
    "\n",
    "#PRINT DATA SHAPE\n",
    "print('training features shape == {}.'.format(x_train.shape))\n",
    "print('training targets shape == {}.'.format(y_train.shape))\n",
    "print('testing features shape == {}.'.format(x_test.shape))\n",
    "print('testing features shape == {}.'.format(y_test.shape))\n",
    "\n",
    "print(\"X_TRAIN\")\n",
    "print(x_train)\n",
    "print(\"Y_TRAIN\")\n",
    "print(y_train)"
   ]
  },
  {
   "cell_type": "code",
   "execution_count": 331,
   "id": "worst-wednesday",
   "metadata": {},
   "outputs": [],
   "source": [
    "y_train =  np.reshape(y_train, (y_train.shape[0], 1, y_train.shape[1]))\n",
    "y_test =  np.reshape(y_test, (y_test.shape[0], 1, y_test.shape[1]))"
   ]
  },
  {
   "cell_type": "code",
   "execution_count": 332,
   "id": "dominant-change",
   "metadata": {},
   "outputs": [
    {
     "name": "stdout",
     "output_type": "stream",
     "text": [
      "training features shape == (135740, 6, 4).\n",
      "training targets shape == (135740, 1, 1).\n",
      "testing features shape == (33931, 6, 4).\n",
      "testing features shape == (33931, 1, 1).\n",
      "X_TRAIN\n",
      "[[[0.79381908 0.79306201 0.78975707 0.79399787]\n",
      "  [0.79239617 0.79427395 0.79096397 0.79543074]\n",
      "  [0.79226066 0.79611387 0.79326584 0.79503969]\n",
      "  [0.79280526 0.79519957 0.79234094 0.79427955]\n",
      "  [0.79521252 0.79757672 0.79493492 0.79685162]\n",
      "  [0.79286119 0.79658428 0.79326466 0.79522572]]\n",
      "\n",
      " [[0.79239617 0.79427395 0.79096397 0.79543074]\n",
      "  [0.79226066 0.79611387 0.79326584 0.79503969]\n",
      "  [0.79280526 0.79519957 0.79234094 0.79427955]\n",
      "  [0.79521252 0.79757672 0.79493492 0.79685162]\n",
      "  [0.79286119 0.79658428 0.79326466 0.79522572]\n",
      "  [0.79286119 0.79757885 0.79425509 0.79592379]]\n",
      "\n",
      " [[0.79226066 0.79611387 0.79326584 0.79503969]\n",
      "  [0.79280526 0.79519957 0.79234094 0.79427955]\n",
      "  [0.79521252 0.79757672 0.79493492 0.79685162]\n",
      "  [0.79286119 0.79658428 0.79326466 0.79522572]\n",
      "  [0.79286119 0.79757885 0.79425509 0.79592379]\n",
      "  [0.79873533 0.7961193  0.79280162 0.79959732]]\n",
      "\n",
      " ...\n",
      "\n",
      " [[0.1901219  0.19135995 0.19056434 0.1910621 ]\n",
      "  [0.19029133 0.19145502 0.19071762 0.19105888]\n",
      "  [0.19023454 0.19128333 0.19079163 0.19095992]\n",
      "  [0.18989023 0.19029421 0.19026943 0.1900076 ]\n",
      "  [0.18936133 0.18994142 0.18991721 0.18986178]\n",
      "  [0.1887688  0.18751337 0.18912931 0.18770675]]\n",
      "\n",
      " [[0.19029133 0.19145502 0.19071762 0.19105888]\n",
      "  [0.19023454 0.19128333 0.19079163 0.19095992]\n",
      "  [0.18989023 0.19029421 0.19026943 0.1900076 ]\n",
      "  [0.18936133 0.18994142 0.18991721 0.18986178]\n",
      "  [0.1887688  0.18751337 0.18912931 0.18770675]\n",
      "  [0.18710891 0.18600324 0.18766166 0.18619085]]\n",
      "\n",
      " [[0.19023454 0.19128333 0.19079163 0.19095992]\n",
      "  [0.18989023 0.19029421 0.19026943 0.1900076 ]\n",
      "  [0.18936133 0.18994142 0.18991721 0.18986178]\n",
      "  [0.1887688  0.18751337 0.18912931 0.18770675]\n",
      "  [0.18710891 0.18600324 0.18766166 0.18619085]\n",
      "  [0.18666049 0.18727875 0.18667598 0.18738845]]]\n",
      "Y_TRAIN\n",
      "[[[0.79382207]]\n",
      "\n",
      " [[0.79886101]]\n",
      "\n",
      " [[0.80282978]]\n",
      "\n",
      " ...\n",
      "\n",
      " [[0.18574149]]\n",
      "\n",
      " [[0.18654393]]\n",
      "\n",
      " [[0.18665078]]]\n"
     ]
    }
   ],
   "source": [
    "#PRINT DATA SHAPE\n",
    "print('training features shape == {}.'.format(x_train.shape))\n",
    "print('training targets shape == {}.'.format(y_train.shape))\n",
    "print('testing features shape == {}.'.format(x_test.shape))\n",
    "print('testing features shape == {}.'.format(y_test.shape))\n",
    "\n",
    "print(\"X_TRAIN\")\n",
    "print(x_train)\n",
    "print(\"Y_TRAIN\")\n",
    "print(y_train)"
   ]
  },
  {
   "cell_type": "code",
   "execution_count": 333,
   "id": "injured-initial",
   "metadata": {},
   "outputs": [
    {
     "name": "stdout",
     "output_type": "stream",
     "text": [
      "Model: \"sequential_15\"\n",
      "_________________________________________________________________\n",
      "Layer (type)                 Output Shape              Param #   \n",
      "=================================================================\n",
      "lstm_14 (LSTM)               (None, 6, 512)            1058816   \n",
      "_________________________________________________________________\n",
      "dropout_13 (Dropout)         (None, 6, 512)            0         \n",
      "_________________________________________________________________\n",
      "dense_14 (Dense)             (None, 6, 1)              513       \n",
      "_________________________________________________________________\n",
      "activation_13 (Activation)   (None, 6, 1)              0         \n",
      "=================================================================\n",
      "Total params: 1,059,329\n",
      "Trainable params: 1,059,329\n",
      "Non-trainable params: 0\n",
      "_________________________________________________________________\n",
      "11312/11312 [==============================] - 55s 5ms/step - loss: 0.0027 - mae: 0.0192 - val_loss: 0.0067 - val_mae: 0.0714\n"
     ]
    }
   ],
   "source": [
    "# CLEAN UP MEMORY\n",
    "gc.collect()\n",
    "# random seed for reproducibility\n",
    "np.random.seed(202)\n",
    "# initialise model architecture\n",
    "model = build_model(x_train, neurons=neurons)\n",
    "# train model on data\n",
    "history = model.fit(x_train, y_train, epochs=epochs, batch_size=batch_size, verbose=1, validation_data=(x_test, y_test), shuffle=False)"
   ]
  },
  {
   "cell_type": "code",
   "execution_count": 334,
   "id": "choice-contrast",
   "metadata": {},
   "outputs": [
    {
     "data": {
      "image/png": "[encoded data removed]",
      "text/plain": [
       "<Figure size 432x288 with 1 Axes>"
      ]
     },
     "metadata": {
      "needs_background": "light"
     },
     "output_type": "display_data"
    }
   ],
   "source": [
    "#PLOT LOSS\n",
    "plt.plot(history.history['loss'])\n",
    "plt.plot(history.history['val_loss'])\n",
    "plt.title('model loss')\n",
    "plt.ylabel('loss')\n",
    "plt.xlabel('epoch')\n",
    "plt.legend(['train', 'val'], loc='upper left')\n",
    "plt.show()"
   ]
  },
  {
   "cell_type": "code",
   "execution_count": 335,
   "id": "lyric-diploma",
   "metadata": {},
   "outputs": [
    {
     "data": {
      "image/png": "[encoded data removed]",
      "text/plain": [
       "<Figure size 432x288 with 1 Axes>"
      ]
     },
     "metadata": {
      "needs_background": "light"
     },
     "output_type": "display_data"
    }
   ],
   "source": [
    "#PLOT LOSS\n",
    "plt.plot(history.history['mae'])\n",
    "plt.plot(history.history['val_mae'])\n",
    "plt.title('model mae')\n",
    "plt.ylabel('mae')\n",
    "plt.xlabel('epoch')\n",
    "plt.legend(['train', 'val'], loc='upper left')\n",
    "plt.show()"
   ]
  },
  {
   "cell_type": "code",
   "execution_count": 338,
   "id": "international-stockholm",
   "metadata": {},
   "outputs": [
    {
     "name": "stdout",
     "output_type": "stream",
     "text": [
      "(135740, 6, 1)\n",
      "(33931, 6, 1)\n"
     ]
    }
   ],
   "source": [
    "#PERFORM PREDICTIONS\n",
    "train_predict = model.predict(x_train)\n",
    "test_predict = model.predict(x_test)\n",
    "print(train_predict.shape)\n",
    "print(test_predict.shape)\n",
    "\n",
    "#WHY IS IT PREDICTING 6 OUTCOMES. IS IT BECAUSE PROVIDING DATA IN THAT FORMAT? NEED TO PROVIDE FLAT DATA?"
   ]
  },
  {
   "cell_type": "code",
   "execution_count": 339,
   "id": "powerful-replica",
   "metadata": {},
   "outputs": [
    {
     "ename": "ValueError",
     "evalue": "cannot reshape array of size 814440 into shape (135740,1)",
     "output_type": "error",
     "traceback": [
      "\u001b[1;31m---------------------------------------------------------------------------\u001b[0m",
      "\u001b[1;31mValueError\u001b[0m                                Traceback (most recent call last)",
      "\u001b[1;32m<ipython-input-339-758e4c617ec5>\u001b[0m in \u001b[0;36m<module>\u001b[1;34m\u001b[0m\n\u001b[1;32m----> 1\u001b[1;33m \u001b[0mtrain_predict\u001b[0m \u001b[1;33m=\u001b[0m \u001b[0mnp\u001b[0m\u001b[1;33m.\u001b[0m\u001b[0mreshape\u001b[0m\u001b[1;33m(\u001b[0m\u001b[0mtrain_predict\u001b[0m\u001b[1;33m,\u001b[0m \u001b[1;33m(\u001b[0m\u001b[0mtrain_predict\u001b[0m\u001b[1;33m.\u001b[0m\u001b[0mshape\u001b[0m\u001b[1;33m[\u001b[0m\u001b[1;36m0\u001b[0m\u001b[1;33m]\u001b[0m\u001b[1;33m,\u001b[0m \u001b[1;36m1\u001b[0m\u001b[1;33m)\u001b[0m\u001b[1;33m)\u001b[0m\u001b[1;33m\u001b[0m\u001b[1;33m\u001b[0m\u001b[0m\n\u001b[0m\u001b[0;32m      2\u001b[0m \u001b[0mtest_predict\u001b[0m \u001b[1;33m=\u001b[0m \u001b[0mnp\u001b[0m\u001b[1;33m.\u001b[0m\u001b[0mreshape\u001b[0m\u001b[1;33m(\u001b[0m\u001b[0mtest_predict\u001b[0m\u001b[1;33m,\u001b[0m \u001b[1;33m(\u001b[0m\u001b[0mtest_predict\u001b[0m\u001b[1;33m.\u001b[0m\u001b[0mshape\u001b[0m\u001b[1;33m[\u001b[0m\u001b[1;36m0\u001b[0m\u001b[1;33m]\u001b[0m\u001b[1;33m,\u001b[0m \u001b[1;36m1\u001b[0m\u001b[1;33m)\u001b[0m\u001b[1;33m)\u001b[0m\u001b[1;33m\u001b[0m\u001b[1;33m\u001b[0m\u001b[0m\n\u001b[0;32m      3\u001b[0m \u001b[1;33m\u001b[0m\u001b[0m\n\u001b[0;32m      4\u001b[0m \u001b[0mprint\u001b[0m\u001b[1;33m(\u001b[0m\u001b[0mtrain_predict\u001b[0m\u001b[1;33m.\u001b[0m\u001b[0mshape\u001b[0m\u001b[1;33m)\u001b[0m\u001b[1;33m\u001b[0m\u001b[1;33m\u001b[0m\u001b[0m\n\u001b[0;32m      5\u001b[0m \u001b[0mprint\u001b[0m\u001b[1;33m(\u001b[0m\u001b[0mtest_predict\u001b[0m\u001b[1;33m.\u001b[0m\u001b[0mshape\u001b[0m\u001b[1;33m)\u001b[0m\u001b[1;33m\u001b[0m\u001b[1;33m\u001b[0m\u001b[0m\n",
      "\u001b[1;32m<__array_function__ internals>\u001b[0m in \u001b[0;36mreshape\u001b[1;34m(*args, **kwargs)\u001b[0m\n",
      "\u001b[1;32mC:\\Anaconda3\\envs\\eth\\lib\\site-packages\\numpy\\core\\fromnumeric.py\u001b[0m in \u001b[0;36mreshape\u001b[1;34m(a, newshape, order)\u001b[0m\n\u001b[0;32m    297\u001b[0m            [5, 6]])\n\u001b[0;32m    298\u001b[0m     \"\"\"\n\u001b[1;32m--> 299\u001b[1;33m     \u001b[1;32mreturn\u001b[0m \u001b[0m_wrapfunc\u001b[0m\u001b[1;33m(\u001b[0m\u001b[0ma\u001b[0m\u001b[1;33m,\u001b[0m \u001b[1;34m'reshape'\u001b[0m\u001b[1;33m,\u001b[0m \u001b[0mnewshape\u001b[0m\u001b[1;33m,\u001b[0m \u001b[0morder\u001b[0m\u001b[1;33m=\u001b[0m\u001b[0morder\u001b[0m\u001b[1;33m)\u001b[0m\u001b[1;33m\u001b[0m\u001b[1;33m\u001b[0m\u001b[0m\n\u001b[0m\u001b[0;32m    300\u001b[0m \u001b[1;33m\u001b[0m\u001b[0m\n\u001b[0;32m    301\u001b[0m \u001b[1;33m\u001b[0m\u001b[0m\n",
      "\u001b[1;32mC:\\Anaconda3\\envs\\eth\\lib\\site-packages\\numpy\\core\\fromnumeric.py\u001b[0m in \u001b[0;36m_wrapfunc\u001b[1;34m(obj, method, *args, **kwds)\u001b[0m\n\u001b[0;32m     56\u001b[0m \u001b[1;33m\u001b[0m\u001b[0m\n\u001b[0;32m     57\u001b[0m     \u001b[1;32mtry\u001b[0m\u001b[1;33m:\u001b[0m\u001b[1;33m\u001b[0m\u001b[1;33m\u001b[0m\u001b[0m\n\u001b[1;32m---> 58\u001b[1;33m         \u001b[1;32mreturn\u001b[0m \u001b[0mbound\u001b[0m\u001b[1;33m(\u001b[0m\u001b[1;33m*\u001b[0m\u001b[0margs\u001b[0m\u001b[1;33m,\u001b[0m \u001b[1;33m**\u001b[0m\u001b[0mkwds\u001b[0m\u001b[1;33m)\u001b[0m\u001b[1;33m\u001b[0m\u001b[1;33m\u001b[0m\u001b[0m\n\u001b[0m\u001b[0;32m     59\u001b[0m     \u001b[1;32mexcept\u001b[0m \u001b[0mTypeError\u001b[0m\u001b[1;33m:\u001b[0m\u001b[1;33m\u001b[0m\u001b[1;33m\u001b[0m\u001b[0m\n\u001b[0;32m     60\u001b[0m         \u001b[1;31m# A TypeError occurs if the object does have such a method in its\u001b[0m\u001b[1;33m\u001b[0m\u001b[1;33m\u001b[0m\u001b[1;33m\u001b[0m\u001b[0m\n",
      "\u001b[1;31mValueError\u001b[0m: cannot reshape array of size 814440 into shape (135740,1)"
     ]
    }
   ],
   "source": [
    "train_predict = np.reshape(train_predict, (train_predict.shape[0], 1))\n",
    "test_predict = np.reshape(test_predict, (test_predict.shape[0], 1))\n",
    "\n",
    "print(train_predict.shape)\n",
    "print(test_predict.shape)"
   ]
  },
  {
   "cell_type": "code",
   "execution_count": 337,
   "id": "apart-twins",
   "metadata": {},
   "outputs": [
    {
     "ename": "ValueError",
     "evalue": "Found array with dim 3. Estimator expected <= 2.",
     "output_type": "error",
     "traceback": [
      "\u001b[1;31m---------------------------------------------------------------------------\u001b[0m",
      "\u001b[1;31mValueError\u001b[0m                                Traceback (most recent call last)",
      "\u001b[1;32m<ipython-input-337-b9a49c570795>\u001b[0m in \u001b[0;36m<module>\u001b[1;34m\u001b[0m\n\u001b[0;32m      1\u001b[0m \u001b[1;31m# invert predictions\u001b[0m\u001b[1;33m\u001b[0m\u001b[1;33m\u001b[0m\u001b[1;33m\u001b[0m\u001b[0m\n\u001b[1;32m----> 2\u001b[1;33m \u001b[0mtrain_predict\u001b[0m \u001b[1;33m=\u001b[0m \u001b[0mscaler\u001b[0m\u001b[1;33m.\u001b[0m\u001b[0minverse_transform\u001b[0m\u001b[1;33m(\u001b[0m\u001b[0mtrain_predict\u001b[0m\u001b[1;33m)\u001b[0m\u001b[1;33m\u001b[0m\u001b[1;33m\u001b[0m\u001b[0m\n\u001b[0m\u001b[0;32m      3\u001b[0m \u001b[0my_train\u001b[0m \u001b[1;33m=\u001b[0m \u001b[0mscaler\u001b[0m\u001b[1;33m.\u001b[0m\u001b[0minverse_transform\u001b[0m\u001b[1;33m(\u001b[0m\u001b[1;33m[\u001b[0m\u001b[0my_train\u001b[0m\u001b[1;33m]\u001b[0m\u001b[1;33m)\u001b[0m\u001b[1;33m\u001b[0m\u001b[1;33m\u001b[0m\u001b[0m\n\u001b[0;32m      4\u001b[0m \u001b[0mtest_predict\u001b[0m \u001b[1;33m=\u001b[0m \u001b[0mscaler\u001b[0m\u001b[1;33m.\u001b[0m\u001b[0minverse_transform\u001b[0m\u001b[1;33m(\u001b[0m\u001b[0mtest_predict\u001b[0m\u001b[1;33m)\u001b[0m\u001b[1;33m\u001b[0m\u001b[1;33m\u001b[0m\u001b[0m\n\u001b[0;32m      5\u001b[0m \u001b[0my_test\u001b[0m \u001b[1;33m=\u001b[0m \u001b[0mscaler\u001b[0m\u001b[1;33m.\u001b[0m\u001b[0minverse_transform\u001b[0m\u001b[1;33m(\u001b[0m\u001b[1;33m[\u001b[0m\u001b[0my_test\u001b[0m\u001b[1;33m]\u001b[0m\u001b[1;33m)\u001b[0m\u001b[1;33m\u001b[0m\u001b[1;33m\u001b[0m\u001b[0m\n",
      "\u001b[1;32mC:\\Anaconda3\\envs\\eth\\lib\\site-packages\\sklearn\\preprocessing\\_data.py\u001b[0m in \u001b[0;36minverse_transform\u001b[1;34m(self, X)\u001b[0m\n\u001b[0;32m    456\u001b[0m         \u001b[0mcheck_is_fitted\u001b[0m\u001b[1;33m(\u001b[0m\u001b[0mself\u001b[0m\u001b[1;33m)\u001b[0m\u001b[1;33m\u001b[0m\u001b[1;33m\u001b[0m\u001b[0m\n\u001b[0;32m    457\u001b[0m \u001b[1;33m\u001b[0m\u001b[0m\n\u001b[1;32m--> 458\u001b[1;33m         X = check_array(X, copy=self.copy, dtype=FLOAT_DTYPES,\n\u001b[0m\u001b[0;32m    459\u001b[0m                         force_all_finite=\"allow-nan\")\n\u001b[0;32m    460\u001b[0m \u001b[1;33m\u001b[0m\u001b[0m\n",
      "\u001b[1;32mC:\\Anaconda3\\envs\\eth\\lib\\site-packages\\sklearn\\utils\\validation.py\u001b[0m in \u001b[0;36minner_f\u001b[1;34m(*args, **kwargs)\u001b[0m\n\u001b[0;32m     61\u001b[0m             \u001b[0mextra_args\u001b[0m \u001b[1;33m=\u001b[0m \u001b[0mlen\u001b[0m\u001b[1;33m(\u001b[0m\u001b[0margs\u001b[0m\u001b[1;33m)\u001b[0m \u001b[1;33m-\u001b[0m \u001b[0mlen\u001b[0m\u001b[1;33m(\u001b[0m\u001b[0mall_args\u001b[0m\u001b[1;33m)\u001b[0m\u001b[1;33m\u001b[0m\u001b[1;33m\u001b[0m\u001b[0m\n\u001b[0;32m     62\u001b[0m             \u001b[1;32mif\u001b[0m \u001b[0mextra_args\u001b[0m \u001b[1;33m<=\u001b[0m \u001b[1;36m0\u001b[0m\u001b[1;33m:\u001b[0m\u001b[1;33m\u001b[0m\u001b[1;33m\u001b[0m\u001b[0m\n\u001b[1;32m---> 63\u001b[1;33m                 \u001b[1;32mreturn\u001b[0m \u001b[0mf\u001b[0m\u001b[1;33m(\u001b[0m\u001b[1;33m*\u001b[0m\u001b[0margs\u001b[0m\u001b[1;33m,\u001b[0m \u001b[1;33m**\u001b[0m\u001b[0mkwargs\u001b[0m\u001b[1;33m)\u001b[0m\u001b[1;33m\u001b[0m\u001b[1;33m\u001b[0m\u001b[0m\n\u001b[0m\u001b[0;32m     64\u001b[0m \u001b[1;33m\u001b[0m\u001b[0m\n\u001b[0;32m     65\u001b[0m             \u001b[1;31m# extra_args > 0\u001b[0m\u001b[1;33m\u001b[0m\u001b[1;33m\u001b[0m\u001b[1;33m\u001b[0m\u001b[0m\n",
      "\u001b[1;32mC:\\Anaconda3\\envs\\eth\\lib\\site-packages\\sklearn\\utils\\validation.py\u001b[0m in \u001b[0;36mcheck_array\u001b[1;34m(array, accept_sparse, accept_large_sparse, dtype, order, copy, force_all_finite, ensure_2d, allow_nd, ensure_min_samples, ensure_min_features, estimator)\u001b[0m\n\u001b[0;32m    657\u001b[0m                     \"into decimal numbers with dtype='numeric'\") from e\n\u001b[0;32m    658\u001b[0m         \u001b[1;32mif\u001b[0m \u001b[1;32mnot\u001b[0m \u001b[0mallow_nd\u001b[0m \u001b[1;32mand\u001b[0m \u001b[0marray\u001b[0m\u001b[1;33m.\u001b[0m\u001b[0mndim\u001b[0m \u001b[1;33m>=\u001b[0m \u001b[1;36m3\u001b[0m\u001b[1;33m:\u001b[0m\u001b[1;33m\u001b[0m\u001b[1;33m\u001b[0m\u001b[0m\n\u001b[1;32m--> 659\u001b[1;33m             raise ValueError(\"Found array with dim %d. %s expected <= 2.\"\n\u001b[0m\u001b[0;32m    660\u001b[0m                              % (array.ndim, estimator_name))\n\u001b[0;32m    661\u001b[0m \u001b[1;33m\u001b[0m\u001b[0m\n",
      "\u001b[1;31mValueError\u001b[0m: Found array with dim 3. Estimator expected <= 2."
     ]
    }
   ],
   "source": [
    "# invert predictions\n",
    "train_predict = scaler.inverse_transform(train_predict)\n",
    "y_train = scaler.inverse_transform([y_train])\n",
    "test_predict = scaler.inverse_transform(test_predict)\n",
    "y_test = scaler.inverse_transform([y_test])\n",
    "# calculate root mean squared error\n",
    "train_score = math.sqrt(mean_squared_error(y_train[0], train_predict[:,0]))\n",
    "print('Train Score: %.2f RMSE' % (train_score))\n",
    "test_score = math.sqrt(mean_squared_error(y_test[0], test_predict[:,0]))\n",
    "print('Test Score: %.2f RMSE' % (test_score))\n",
    "# shift train predictions for plotting\n",
    "trainPredictPlot = numpy.empty_like(data)\n",
    "trainPredictPlot[:, :] = numpy.nan\n",
    "trainPredictPlot[look_back:len(train_predict)+look_back, :] = train_predict\n",
    "# shift test predictions for plotting\n",
    "testPredictPlot = numpy.empty_like(data)\n",
    "testPredictPlot[:, :] = numpy.nan\n",
    "testPredictPlot[len(train_predict)+(look_back*2)+1:len(data)-1, :] = test_predict\n",
    "# plot baseline and predictions\n",
    "plt.plot(scaler.inverse_transform(data))\n",
    "plt.plot(trainPredictPlot)\n",
    "plt.plot(testPredictPlot)\n",
    "plt.show()"
   ]
  },
  {
   "cell_type": "code",
   "execution_count": 256,
   "id": "deluxe-record",
   "metadata": {},
   "outputs": [
    {
     "name": "stdout",
     "output_type": "stream",
     "text": [
      "(1, 1)\n"
     ]
    }
   ],
   "source": [
    "predicted = model.predict(x_train)\n",
    "print(predicted.shape)"
   ]
  }
 ],
 "metadata": {
  "kernelspec": {
   "display_name": "Python 3",
   "language": "python",
   "name": "python3"
  },
  "language_info": {
   "codemirror_mode": {
    "name": "ipython",
    "version": 3
   },
   "file_extension": ".py",
   "mimetype": "text/x-python",
   "name": "python",
   "nbconvert_exporter": "python",
   "pygments_lexer": "ipython3",
   "version": "3.8.5"
  }
 },
 "nbformat": 4,
 "nbformat_minor": 5
}
